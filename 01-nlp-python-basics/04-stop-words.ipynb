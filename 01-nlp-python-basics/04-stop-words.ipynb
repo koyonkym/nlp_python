{
 "cells": [
  {
   "cell_type": "code",
   "execution_count": 1,
   "metadata": {},
   "outputs": [],
   "source": [
    "import spacy"
   ]
  },
  {
   "cell_type": "code",
   "execution_count": 2,
   "metadata": {},
   "outputs": [],
   "source": [
    "nlp = spacy.load('en_core_web_sm')"
   ]
  },
  {
   "cell_type": "code",
   "execution_count": 3,
   "metadata": {},
   "outputs": [
    {
     "name": "stdout",
     "output_type": "stream",
     "text": [
      "{'move', 'though', 'among', 'too', 'yours', 'much', 'not', 'least', 'than', 'has', 'throughout', 'you', 'or', 'into', 'some', 'already', 'while', 'does', 'fifty', 'due', 'side', 'so', 'seemed', 'seeming', 'i', 'nothing', 'because', 'last', 'our', 'also', 'front', 'cannot', 'hereupon', 'even', 'did', 'indeed', 'say', 'three', 'except', 'thence', 'wherever', 'to', 'own', 'well', 'per', 'again', 'is', 'anything', 'back', 'first', 'was', 'an', 'whither', 'would', 'everywhere', 'until', 'why', 'rather', 'see', 'she', 'sometimes', 'call', 'eleven', 'by', 'around', 'every', 'thru', 'unless', 'over', 'less', 'one', 'when', 'be', 'are', 'might', 'them', 'nor', 'whereas', 'were', 'somewhere', 'various', 'nobody', 'about', 'a', 'sixty', 'name', 'please', 'been', 'else', 'otherwise', 'ourselves', 'he', 'seem', 'therefore', 'whereby', 'on', 'wherein', 'put', 'full', 'thereafter', 'whose', 'should', 'they', 'my', 'none', 'no', 'us', 'more', 'whoever', 'ours', 'five', 'regarding', 'beforehand', 'and', 'elsewhere', 'everything', 'neither', 'either', 'such', 'these', 'out', 'his', 'then', 'up', 'behind', 'others', 'himself', 'whether', 'yourselves', 'above', 'from', 'towards', 'whole', 'bottom', 'therein', 'really', 'serious', 'always', 'latterly', 'for', 'often', 'thereupon', 'just', 'get', 'at', 'your', 'hereafter', 'used', 'only', 'both', 'mine', 'several', 'enough', 'this', 'formerly', 'the', 'still', 'using', 'perhaps', 'do', 'made', 'ca', 'what', 'am', 'had', 'via', 'third', 'each', 'whence', 'upon', 'will', 'all', 'nowhere', 'during', 'thus', 'noone', 'namely', 're', 'who', 'go', 'now', 'afterwards', 'if', 'top', 'become', 'almost', 'below', 'him', 'besides', 'becomes', 'hence', 'here', 'under', 'there', 'which', 'part', 'quite', 'something', 'somehow', 'myself', 'its', 'once', 'done', 'seems', 'ever', 'how', 'together', 'take', 'mostly', 'whom', 'yourself', 'with', 'beyond', 'against', 'being', 'themselves', 'alone', 'however', 'we', 'whenever', 'forty', 'itself', 'in', 'their', 'could', 'toward', 'thereby', 'where', 'whereupon', 'yet', 'off', 'along', 'that', 'hundred', 'same', 'two', 'down', 'sometime', 'amount', 'me', 'very', 'show', 'may', 'whereafter', 'anywhere', 'nine', 'former', 'anyway', 'four', 'but', 'another', 'few', 'most', 'other', 'six', 'across', 'empty', 'it', 'although', 'can', 'give', 'hereby', 'keep', 'never', 'since', 'of', 'nevertheless', 'anyone', 'became', 'beside', 'many', 'ten', 'before', 'without', 'whatever', 'herself', 'must', 'within', 'anyhow', 'becoming', 'further', 'hers', 'through', 'herein', 'twenty', 'eight', 'doing', 'her', 'onto', 'someone', 'make', 'meanwhile', 'next', 'latter', 'everyone', 'as', 'those', 'between', 'fifteen', 'after', 'any', 'twelve', 'amongst', 'moreover', 'have'}\n"
     ]
    }
   ],
   "source": [
    "print(nlp.Defaults.stop_words)"
   ]
  },
  {
   "cell_type": "code",
   "execution_count": 4,
   "metadata": {},
   "outputs": [
    {
     "data": {
      "text/plain": [
       "305"
      ]
     },
     "execution_count": 4,
     "metadata": {},
     "output_type": "execute_result"
    }
   ],
   "source": [
    "len(nlp.Defaults.stop_words)"
   ]
  },
  {
   "cell_type": "code",
   "execution_count": 6,
   "metadata": {},
   "outputs": [
    {
     "data": {
      "text/plain": [
       "False"
      ]
     },
     "execution_count": 6,
     "metadata": {},
     "output_type": "execute_result"
    }
   ],
   "source": [
    "nlp.vocab['mystery'].is_stop"
   ]
  },
  {
   "cell_type": "code",
   "execution_count": 7,
   "metadata": {},
   "outputs": [],
   "source": [
    "nlp.Defaults.stop_words.add('btw')"
   ]
  },
  {
   "cell_type": "code",
   "execution_count": 8,
   "metadata": {},
   "outputs": [],
   "source": [
    "nlp.vocab['btw'].is_stop = True"
   ]
  },
  {
   "cell_type": "code",
   "execution_count": 9,
   "metadata": {},
   "outputs": [
    {
     "data": {
      "text/plain": [
       "306"
      ]
     },
     "execution_count": 9,
     "metadata": {},
     "output_type": "execute_result"
    }
   ],
   "source": [
    "len(nlp.Defaults.stop_words)"
   ]
  },
  {
   "cell_type": "code",
   "execution_count": 10,
   "metadata": {},
   "outputs": [
    {
     "data": {
      "text/plain": [
       "True"
      ]
     },
     "execution_count": 10,
     "metadata": {},
     "output_type": "execute_result"
    }
   ],
   "source": [
    "nlp.vocab['btw'].is_stop"
   ]
  },
  {
   "cell_type": "code",
   "execution_count": 11,
   "metadata": {},
   "outputs": [],
   "source": [
    "nlp.Defaults.stop_words.remove('beyond')"
   ]
  },
  {
   "cell_type": "code",
   "execution_count": 12,
   "metadata": {},
   "outputs": [],
   "source": [
    "nlp.vocab['beyond'].is_stop = False"
   ]
  },
  {
   "cell_type": "code",
   "execution_count": 13,
   "metadata": {},
   "outputs": [
    {
     "data": {
      "text/plain": [
       "False"
      ]
     },
     "execution_count": 13,
     "metadata": {},
     "output_type": "execute_result"
    }
   ],
   "source": [
    "nlp.vocab['beyond'].is_stop"
   ]
  },
  {
   "cell_type": "code",
   "execution_count": null,
   "metadata": {},
   "outputs": [],
   "source": []
  }
 ],
 "metadata": {
  "kernelspec": {
   "display_name": "nlp_course",
   "language": "python",
   "name": "python3"
  },
  "language_info": {
   "codemirror_mode": {
    "name": "ipython",
    "version": 3
   },
   "file_extension": ".py",
   "mimetype": "text/x-python",
   "name": "python",
   "nbconvert_exporter": "python",
   "pygments_lexer": "ipython3",
   "version": "3.7.15"
  },
  "orig_nbformat": 4
 },
 "nbformat": 4,
 "nbformat_minor": 2
}
