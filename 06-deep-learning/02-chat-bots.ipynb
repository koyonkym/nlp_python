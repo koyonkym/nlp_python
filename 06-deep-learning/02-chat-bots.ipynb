{
 "cells": [
  {
   "cell_type": "code",
   "execution_count": 103,
   "metadata": {},
   "outputs": [],
   "source": [
    "import pickle\n",
    "import numpy as np"
   ]
  },
  {
   "cell_type": "code",
   "execution_count": 104,
   "metadata": {},
   "outputs": [],
   "source": [
    "with open('train_qa.txt', 'rb') as f:\n",
    "    train_data = pickle.load(f)"
   ]
  },
  {
   "cell_type": "code",
   "execution_count": 105,
   "metadata": {},
   "outputs": [],
   "source": [
    "with open('test_qa.txt', 'rb') as f:\n",
    "    test_data = pickle.load(f)"
   ]
  },
  {
   "cell_type": "code",
   "execution_count": 106,
   "metadata": {},
   "outputs": [
    {
     "data": {
      "text/plain": [
       "list"
      ]
     },
     "execution_count": 106,
     "metadata": {},
     "output_type": "execute_result"
    }
   ],
   "source": [
    "type(test_data)"
   ]
  },
  {
   "cell_type": "code",
   "execution_count": 107,
   "metadata": {},
   "outputs": [
    {
     "data": {
      "text/plain": [
       "list"
      ]
     },
     "execution_count": 107,
     "metadata": {},
     "output_type": "execute_result"
    }
   ],
   "source": [
    "type(train_data)"
   ]
  },
  {
   "cell_type": "code",
   "execution_count": 108,
   "metadata": {},
   "outputs": [
    {
     "data": {
      "text/plain": [
       "10000"
      ]
     },
     "execution_count": 108,
     "metadata": {},
     "output_type": "execute_result"
    }
   ],
   "source": [
    "len(train_data)"
   ]
  },
  {
   "cell_type": "code",
   "execution_count": 109,
   "metadata": {},
   "outputs": [
    {
     "data": {
      "text/plain": [
       "1000"
      ]
     },
     "execution_count": 109,
     "metadata": {},
     "output_type": "execute_result"
    }
   ],
   "source": [
    "len(test_data)"
   ]
  },
  {
   "cell_type": "code",
   "execution_count": 110,
   "metadata": {},
   "outputs": [
    {
     "data": {
      "text/plain": [
       "(['Mary',\n",
       "  'moved',\n",
       "  'to',\n",
       "  'the',\n",
       "  'bathroom',\n",
       "  '.',\n",
       "  'Sandra',\n",
       "  'journeyed',\n",
       "  'to',\n",
       "  'the',\n",
       "  'bedroom',\n",
       "  '.'],\n",
       " ['Is', 'Sandra', 'in', 'the', 'hallway', '?'],\n",
       " 'no')"
      ]
     },
     "execution_count": 110,
     "metadata": {},
     "output_type": "execute_result"
    }
   ],
   "source": [
    "train_data[0]"
   ]
  },
  {
   "cell_type": "code",
   "execution_count": 111,
   "metadata": {},
   "outputs": [
    {
     "data": {
      "text/plain": [
       "'Mary moved to the bathroom . Sandra journeyed to the bedroom .'"
      ]
     },
     "execution_count": 111,
     "metadata": {},
     "output_type": "execute_result"
    }
   ],
   "source": [
    "' '.join(train_data[0][0])"
   ]
  },
  {
   "cell_type": "code",
   "execution_count": 112,
   "metadata": {},
   "outputs": [
    {
     "data": {
      "text/plain": [
       "'Is Sandra in the hallway ?'"
      ]
     },
     "execution_count": 112,
     "metadata": {},
     "output_type": "execute_result"
    }
   ],
   "source": [
    "' '.join(train_data[0][1])"
   ]
  },
  {
   "cell_type": "code",
   "execution_count": 113,
   "metadata": {},
   "outputs": [
    {
     "data": {
      "text/plain": [
       "'no'"
      ]
     },
     "execution_count": 113,
     "metadata": {},
     "output_type": "execute_result"
    }
   ],
   "source": [
    "train_data[0][2]"
   ]
  },
  {
   "cell_type": "code",
   "execution_count": 114,
   "metadata": {},
   "outputs": [],
   "source": [
    "all_data = test_data + train_data"
   ]
  },
  {
   "cell_type": "code",
   "execution_count": 115,
   "metadata": {},
   "outputs": [
    {
     "data": {
      "text/plain": [
       "11000"
      ]
     },
     "execution_count": 115,
     "metadata": {},
     "output_type": "execute_result"
    }
   ],
   "source": [
    "len(all_data)"
   ]
  },
  {
   "cell_type": "code",
   "execution_count": 116,
   "metadata": {},
   "outputs": [
    {
     "data": {
      "text/plain": [
       "{'.',\n",
       " 'Mary',\n",
       " 'Sandra',\n",
       " 'bathroom',\n",
       " 'bedroom',\n",
       " 'journeyed',\n",
       " 'moved',\n",
       " 'the',\n",
       " 'to'}"
      ]
     },
     "execution_count": 116,
     "metadata": {},
     "output_type": "execute_result"
    }
   ],
   "source": [
    "set(train_data[0][0])"
   ]
  },
  {
   "cell_type": "code",
   "execution_count": 117,
   "metadata": {},
   "outputs": [],
   "source": [
    "vocab = set()\n",
    "\n",
    "for story, question, answer in all_data:\n",
    "    vocab = vocab.union(set(story))\n",
    "    vocab = vocab.union(set(question))"
   ]
  },
  {
   "cell_type": "code",
   "execution_count": 118,
   "metadata": {},
   "outputs": [],
   "source": [
    "vocab.add('no')"
   ]
  },
  {
   "cell_type": "code",
   "execution_count": 119,
   "metadata": {},
   "outputs": [],
   "source": [
    "vocab.add('yes')"
   ]
  },
  {
   "cell_type": "code",
   "execution_count": 120,
   "metadata": {},
   "outputs": [
    {
     "data": {
      "text/plain": [
       "{'.',\n",
       " '?',\n",
       " 'Daniel',\n",
       " 'Is',\n",
       " 'John',\n",
       " 'Mary',\n",
       " 'Sandra',\n",
       " 'apple',\n",
       " 'back',\n",
       " 'bathroom',\n",
       " 'bedroom',\n",
       " 'discarded',\n",
       " 'down',\n",
       " 'dropped',\n",
       " 'football',\n",
       " 'garden',\n",
       " 'got',\n",
       " 'grabbed',\n",
       " 'hallway',\n",
       " 'in',\n",
       " 'journeyed',\n",
       " 'kitchen',\n",
       " 'left',\n",
       " 'milk',\n",
       " 'moved',\n",
       " 'no',\n",
       " 'office',\n",
       " 'picked',\n",
       " 'put',\n",
       " 'the',\n",
       " 'there',\n",
       " 'to',\n",
       " 'took',\n",
       " 'travelled',\n",
       " 'up',\n",
       " 'went',\n",
       " 'yes'}"
      ]
     },
     "execution_count": 120,
     "metadata": {},
     "output_type": "execute_result"
    }
   ],
   "source": [
    "vocab"
   ]
  },
  {
   "cell_type": "code",
   "execution_count": 121,
   "metadata": {},
   "outputs": [],
   "source": [
    "vocab_len = len(vocab) + 1"
   ]
  },
  {
   "cell_type": "code",
   "execution_count": 122,
   "metadata": {},
   "outputs": [
    {
     "data": {
      "text/plain": [
       "38"
      ]
     },
     "execution_count": 122,
     "metadata": {},
     "output_type": "execute_result"
    }
   ],
   "source": [
    "vocab_len"
   ]
  },
  {
   "cell_type": "code",
   "execution_count": 123,
   "metadata": {},
   "outputs": [
    {
     "data": {
      "text/plain": [
       "['Mary',\n",
       " 'got',\n",
       " 'the',\n",
       " 'milk',\n",
       " 'there',\n",
       " '.',\n",
       " 'John',\n",
       " 'moved',\n",
       " 'to',\n",
       " 'the',\n",
       " 'bedroom',\n",
       " '.']"
      ]
     },
     "execution_count": 123,
     "metadata": {},
     "output_type": "execute_result"
    }
   ],
   "source": [
    "all_data[0][0]"
   ]
  },
  {
   "cell_type": "code",
   "execution_count": 124,
   "metadata": {},
   "outputs": [],
   "source": [
    "# LONGEST STORY\n",
    "all_story_lens = [len(data[0]) for data in all_data]"
   ]
  },
  {
   "cell_type": "code",
   "execution_count": 125,
   "metadata": {},
   "outputs": [],
   "source": [
    "max_story_len = max(all_story_lens)"
   ]
  },
  {
   "cell_type": "code",
   "execution_count": 126,
   "metadata": {},
   "outputs": [],
   "source": [
    "max_question_len = max([len(data[1]) for data in all_data])"
   ]
  },
  {
   "cell_type": "code",
   "execution_count": 127,
   "metadata": {},
   "outputs": [
    {
     "data": {
      "text/plain": [
       "6"
      ]
     },
     "execution_count": 127,
     "metadata": {},
     "output_type": "execute_result"
    }
   ],
   "source": [
    "max_question_len"
   ]
  },
  {
   "cell_type": "code",
   "execution_count": 128,
   "metadata": {},
   "outputs": [],
   "source": [
    "from keras_preprocessing.sequence import pad_sequences\n",
    "from keras_preprocessing.text import Tokenizer"
   ]
  },
  {
   "cell_type": "code",
   "execution_count": 129,
   "metadata": {},
   "outputs": [],
   "source": [
    "tokenizer = Tokenizer(filters=[])\n",
    "tokenizer.fit_on_texts(vocab)"
   ]
  },
  {
   "cell_type": "code",
   "execution_count": 130,
   "metadata": {},
   "outputs": [
    {
     "data": {
      "text/plain": [
       "{'journeyed': 1,\n",
       " 'there': 2,\n",
       " 'the': 3,\n",
       " 'bathroom': 4,\n",
       " 'apple': 5,\n",
       " 'back': 6,\n",
       " 'yes': 7,\n",
       " 'football': 8,\n",
       " 'bedroom': 9,\n",
       " 'hallway': 10,\n",
       " 'got': 11,\n",
       " 'discarded': 12,\n",
       " 'kitchen': 13,\n",
       " 'is': 14,\n",
       " 'dropped': 15,\n",
       " 'daniel': 16,\n",
       " 'put': 17,\n",
       " 'garden': 18,\n",
       " '.': 19,\n",
       " 'left': 20,\n",
       " 'sandra': 21,\n",
       " 'in': 22,\n",
       " 'up': 23,\n",
       " 'mary': 24,\n",
       " 'to': 25,\n",
       " 'down': 26,\n",
       " 'took': 27,\n",
       " 'moved': 28,\n",
       " 'picked': 29,\n",
       " 'milk': 30,\n",
       " 'no': 31,\n",
       " '?': 32,\n",
       " 'went': 33,\n",
       " 'office': 34,\n",
       " 'travelled': 35,\n",
       " 'john': 36,\n",
       " 'grabbed': 37}"
      ]
     },
     "execution_count": 130,
     "metadata": {},
     "output_type": "execute_result"
    }
   ],
   "source": [
    "tokenizer.word_index"
   ]
  },
  {
   "cell_type": "code",
   "execution_count": 131,
   "metadata": {},
   "outputs": [],
   "source": [
    "train_story_text = []\n",
    "train_question_text = []\n",
    "train_answers = []"
   ]
  },
  {
   "cell_type": "code",
   "execution_count": 132,
   "metadata": {},
   "outputs": [],
   "source": [
    "for story, question, answer in train_data:\n",
    "    train_story_text.append(story)\n",
    "    train_question_text.append(question)\n",
    "    train_answers.append(answer)"
   ]
  },
  {
   "cell_type": "code",
   "execution_count": 133,
   "metadata": {},
   "outputs": [],
   "source": [
    "# train_story_text"
   ]
  },
  {
   "cell_type": "code",
   "execution_count": 134,
   "metadata": {},
   "outputs": [],
   "source": [
    "train_story_seq = tokenizer.texts_to_sequences(train_story_text)"
   ]
  },
  {
   "cell_type": "code",
   "execution_count": 135,
   "metadata": {},
   "outputs": [
    {
     "data": {
      "text/plain": [
       "10000"
      ]
     },
     "execution_count": 135,
     "metadata": {},
     "output_type": "execute_result"
    }
   ],
   "source": [
    "len(train_story_seq)"
   ]
  },
  {
   "cell_type": "code",
   "execution_count": 136,
   "metadata": {},
   "outputs": [
    {
     "data": {
      "text/plain": [
       "10000"
      ]
     },
     "execution_count": 136,
     "metadata": {},
     "output_type": "execute_result"
    }
   ],
   "source": [
    "len(train_story_text)"
   ]
  },
  {
   "cell_type": "code",
   "execution_count": 137,
   "metadata": {},
   "outputs": [],
   "source": [
    "# train_story_text"
   ]
  },
  {
   "cell_type": "code",
   "execution_count": 138,
   "metadata": {},
   "outputs": [],
   "source": [
    "# train_story_seq"
   ]
  },
  {
   "cell_type": "code",
   "execution_count": 139,
   "metadata": {},
   "outputs": [],
   "source": [
    "def vectorize_stories(data, word_index=tokenizer.word_index, max_story_len=max_story_len, max_question_len=max_question_len):\n",
    "\n",
    "    # STORIES = X\n",
    "    X = []\n",
    "    # QUESTIONS Xq\n",
    "    Xq = []\n",
    "    # Y CORRECT ANSWER (yes/no)\n",
    "    Y = []\n",
    "\n",
    "    for story, query, answer in data:\n",
    "\n",
    "        # for each story\n",
    "        # [23,14,....]\n",
    "        x = [word_index[word.lower()] for word in story]\n",
    "        xq = [word_index[word.lower()] for word in query]\n",
    "\n",
    "        y = np.zeros(len(word_index)+1)\n",
    "\n",
    "        y[word_index[answer]] = 1\n",
    "\n",
    "        X.append(x)\n",
    "        Xq.append(xq)\n",
    "        Y.append(y)\n",
    "\n",
    "    return (pad_sequences(X, maxlen=max_story_len), pad_sequences(Xq, maxlen=max_question_len), np.array(Y))"
   ]
  },
  {
   "cell_type": "code",
   "execution_count": 140,
   "metadata": {},
   "outputs": [],
   "source": [
    "inputs_train, queries_train, answers_train = vectorize_stories(train_data)"
   ]
  },
  {
   "cell_type": "code",
   "execution_count": 141,
   "metadata": {},
   "outputs": [],
   "source": [
    "inputs_test, queries_test, answers_test = vectorize_stories(test_data)"
   ]
  },
  {
   "cell_type": "code",
   "execution_count": 142,
   "metadata": {},
   "outputs": [
    {
     "data": {
      "text/plain": [
       "array([[ 0,  0,  0, ...,  3,  9, 19],\n",
       "       [ 0,  0,  0, ...,  3, 18, 19],\n",
       "       [ 0,  0,  0, ...,  3, 18, 19],\n",
       "       ...,\n",
       "       [ 0,  0,  0, ...,  3,  5, 19],\n",
       "       [ 0,  0,  0, ...,  3, 18, 19],\n",
       "       [ 0,  0,  0, ...,  5,  2, 19]], dtype=int32)"
      ]
     },
     "execution_count": 142,
     "metadata": {},
     "output_type": "execute_result"
    }
   ],
   "source": [
    "inputs_test"
   ]
  },
  {
   "cell_type": "code",
   "execution_count": 143,
   "metadata": {},
   "outputs": [
    {
     "data": {
      "text/plain": [
       "array([[0., 0., 0., ..., 0., 0., 0.],\n",
       "       [0., 0., 0., ..., 0., 0., 0.],\n",
       "       [0., 0., 0., ..., 0., 0., 0.],\n",
       "       ...,\n",
       "       [0., 0., 0., ..., 0., 0., 0.],\n",
       "       [0., 0., 0., ..., 0., 0., 0.],\n",
       "       [0., 0., 0., ..., 0., 0., 0.]])"
      ]
     },
     "execution_count": 143,
     "metadata": {},
     "output_type": "execute_result"
    }
   ],
   "source": [
    "answers_test"
   ]
  },
  {
   "cell_type": "code",
   "execution_count": 144,
   "metadata": {},
   "outputs": [
    {
     "data": {
      "text/plain": [
       "7"
      ]
     },
     "execution_count": 144,
     "metadata": {},
     "output_type": "execute_result"
    }
   ],
   "source": [
    "tokenizer.word_index['yes']"
   ]
  },
  {
   "cell_type": "code",
   "execution_count": 145,
   "metadata": {},
   "outputs": [
    {
     "data": {
      "text/plain": [
       "31"
      ]
     },
     "execution_count": 145,
     "metadata": {},
     "output_type": "execute_result"
    }
   ],
   "source": [
    "tokenizer.word_index['no']"
   ]
  },
  {
   "cell_type": "code",
   "execution_count": 146,
   "metadata": {},
   "outputs": [
    {
     "data": {
      "text/plain": [
       "array([  0.,   0.,   0.,   0.,   0.,   0.,   0., 497.,   0.,   0.,   0.,\n",
       "         0.,   0.,   0.,   0.,   0.,   0.,   0.,   0.,   0.,   0.,   0.,\n",
       "         0.,   0.,   0.,   0.,   0.,   0.,   0.,   0.,   0., 503.,   0.,\n",
       "         0.,   0.,   0.,   0.,   0.])"
      ]
     },
     "execution_count": 146,
     "metadata": {},
     "output_type": "execute_result"
    }
   ],
   "source": [
    "sum(answers_test)"
   ]
  },
  {
   "cell_type": "code",
   "execution_count": 147,
   "metadata": {},
   "outputs": [],
   "source": [
    "from keras.models import Sequential, Model"
   ]
  },
  {
   "cell_type": "code",
   "execution_count": 148,
   "metadata": {},
   "outputs": [],
   "source": [
    "from keras.layers import Embedding"
   ]
  },
  {
   "cell_type": "code",
   "execution_count": 149,
   "metadata": {},
   "outputs": [],
   "source": [
    "from keras.layers import Input, Activation, Dense, Permute, Dropout, add, dot, concatenate, LSTM"
   ]
  },
  {
   "cell_type": "code",
   "execution_count": 150,
   "metadata": {},
   "outputs": [],
   "source": [
    "# PLACEHOLDER shape=(max_story_len, batch_size)\n",
    "input_sequence = Input((max_story_len,))\n",
    "question = Input((max_question_len,))"
   ]
  },
  {
   "cell_type": "code",
   "execution_count": 151,
   "metadata": {},
   "outputs": [],
   "source": [
    "# vocab_len\n",
    "vocab_size = len(vocab) + 1"
   ]
  },
  {
   "cell_type": "code",
   "execution_count": 152,
   "metadata": {},
   "outputs": [],
   "source": [
    "# INPUT ENCODER M\n",
    "input_encoder_m = Sequential()\n",
    "input_encoder_m.add(Embedding(input_dim=vocab_size, output_dim=64))\n",
    "input_encoder_m.add(Dropout(0.3))\n",
    "\n",
    "# OUTPUT\n",
    "# (samples, story_maxlen, embedding_dim)"
   ]
  },
  {
   "cell_type": "code",
   "execution_count": 153,
   "metadata": {},
   "outputs": [],
   "source": [
    "# INPUT ENCODER C\n",
    "input_encoder_c = Sequential()\n",
    "input_encoder_c.add(Embedding(input_dim=vocab_size, output_dim=max_question_len))\n",
    "input_encoder_c.add(Dropout(0.3))\n",
    "\n",
    "# OUTPUT\n",
    "# (samples, story_maxlen, max_question_len)"
   ]
  },
  {
   "cell_type": "code",
   "execution_count": 154,
   "metadata": {},
   "outputs": [],
   "source": [
    "question_encoder = Sequential()\n",
    "question_encoder.add(Embedding(input_dim=vocab_size, output_dim=64, input_length=max_question_len))\n",
    "question_encoder.add(Dropout(0.3))\n",
    "\n",
    "# (samples, query_maxlen, embedding_dim)"
   ]
  },
  {
   "cell_type": "code",
   "execution_count": 155,
   "metadata": {},
   "outputs": [],
   "source": [
    "# ENCODED <--- ENCODER(INPUT)\n",
    "input_encoded_m = input_encoder_m(input_sequence)\n",
    "input_encoded_c = input_encoder_c(input_sequence)\n",
    "question_encoded = question_encoder(question)"
   ]
  },
  {
   "cell_type": "code",
   "execution_count": 156,
   "metadata": {},
   "outputs": [],
   "source": [
    "match = dot([input_encoded_m, question_encoded], axes=(2, 2))\n",
    "match = Activation('softmax')(match)"
   ]
  },
  {
   "cell_type": "code",
   "execution_count": 157,
   "metadata": {},
   "outputs": [],
   "source": [
    "response = add([match, input_encoded_c])\n",
    "response = Permute((2, 1))(response)"
   ]
  },
  {
   "cell_type": "code",
   "execution_count": 158,
   "metadata": {},
   "outputs": [],
   "source": [
    "answer = concatenate([response, question_encoded])"
   ]
  },
  {
   "cell_type": "code",
   "execution_count": 159,
   "metadata": {},
   "outputs": [
    {
     "data": {
      "text/plain": [
       "<KerasTensor: shape=(None, 6, 220) dtype=float32 (created by layer 'concatenate_1')>"
      ]
     },
     "execution_count": 159,
     "metadata": {},
     "output_type": "execute_result"
    }
   ],
   "source": [
    "answer"
   ]
  },
  {
   "cell_type": "code",
   "execution_count": 160,
   "metadata": {},
   "outputs": [],
   "source": [
    "answer = LSTM(32)(answer)"
   ]
  },
  {
   "cell_type": "code",
   "execution_count": 161,
   "metadata": {},
   "outputs": [],
   "source": [
    "answer = Dropout(0.5)(answer)\n",
    "answer = Dense(vocab_size)(answer) # (samples, vocab_size) # YES/NO 0000"
   ]
  },
  {
   "cell_type": "code",
   "execution_count": 162,
   "metadata": {},
   "outputs": [],
   "source": [
    "answer = Activation('softmax')(answer)"
   ]
  },
  {
   "cell_type": "code",
   "execution_count": 163,
   "metadata": {},
   "outputs": [],
   "source": [
    "model = Model([input_sequence, question], answer)"
   ]
  },
  {
   "cell_type": "code",
   "execution_count": 164,
   "metadata": {},
   "outputs": [],
   "source": [
    "model.compile(optimizer='rmsprop', loss='categorical_crossentropy', metrics=['accuracy'])"
   ]
  },
  {
   "cell_type": "code",
   "execution_count": 165,
   "metadata": {},
   "outputs": [
    {
     "name": "stdout",
     "output_type": "stream",
     "text": [
      "Model: \"model_1\"\n",
      "__________________________________________________________________________________________________\n",
      " Layer (type)                   Output Shape         Param #     Connected to                     \n",
      "==================================================================================================\n",
      " input_3 (InputLayer)           [(None, 156)]        0           []                               \n",
      "                                                                                                  \n",
      " input_4 (InputLayer)           [(None, 6)]          0           []                               \n",
      "                                                                                                  \n",
      " sequential_4 (Sequential)      (None, None, 64)     2432        ['input_3[0][0]']                \n",
      "                                                                                                  \n",
      " sequential_6 (Sequential)      (None, 6, 64)        2432        ['input_4[0][0]']                \n",
      "                                                                                                  \n",
      " dot_1 (Dot)                    (None, 156, 6)       0           ['sequential_4[0][0]',           \n",
      "                                                                  'sequential_6[0][0]']           \n",
      "                                                                                                  \n",
      " activation_2 (Activation)      (None, 156, 6)       0           ['dot_1[0][0]']                  \n",
      "                                                                                                  \n",
      " sequential_5 (Sequential)      (None, None, 6)      228         ['input_3[0][0]']                \n",
      "                                                                                                  \n",
      " add_1 (Add)                    (None, 156, 6)       0           ['activation_2[0][0]',           \n",
      "                                                                  'sequential_5[0][0]']           \n",
      "                                                                                                  \n",
      " permute_1 (Permute)            (None, 6, 156)       0           ['add_1[0][0]']                  \n",
      "                                                                                                  \n",
      " concatenate_1 (Concatenate)    (None, 6, 220)       0           ['permute_1[0][0]',              \n",
      "                                                                  'sequential_6[0][0]']           \n",
      "                                                                                                  \n",
      " lstm_1 (LSTM)                  (None, 32)           32384       ['concatenate_1[0][0]']          \n",
      "                                                                                                  \n",
      " dropout_8 (Dropout)            (None, 32)           0           ['lstm_1[0][0]']                 \n",
      "                                                                                                  \n",
      " dense_1 (Dense)                (None, 38)           1254        ['dropout_8[0][0]']              \n",
      "                                                                                                  \n",
      " activation_3 (Activation)      (None, 38)           0           ['dense_1[0][0]']                \n",
      "                                                                                                  \n",
      "==================================================================================================\n",
      "Total params: 38,730\n",
      "Trainable params: 38,730\n",
      "Non-trainable params: 0\n",
      "__________________________________________________________________________________________________\n"
     ]
    }
   ],
   "source": [
    "model.summary()"
   ]
  },
  {
   "cell_type": "code",
   "execution_count": 166,
   "metadata": {},
   "outputs": [
    {
     "name": "stdout",
     "output_type": "stream",
     "text": [
      "Epoch 1/100\n",
      "313/313 [==============================] - 4s 7ms/step - loss: 0.9102 - accuracy: 0.4935 - val_loss: 0.6961 - val_accuracy: 0.5030\n",
      "Epoch 2/100\n",
      "313/313 [==============================] - 2s 6ms/step - loss: 0.7064 - accuracy: 0.4939 - val_loss: 0.6937 - val_accuracy: 0.4970\n",
      "Epoch 3/100\n",
      "313/313 [==============================] - 2s 6ms/step - loss: 0.6963 - accuracy: 0.5011 - val_loss: 0.6932 - val_accuracy: 0.5030\n",
      "Epoch 4/100\n",
      "313/313 [==============================] - 2s 6ms/step - loss: 0.6949 - accuracy: 0.5093 - val_loss: 0.6951 - val_accuracy: 0.5030\n",
      "Epoch 5/100\n",
      "313/313 [==============================] - 2s 6ms/step - loss: 0.6943 - accuracy: 0.5026 - val_loss: 0.6936 - val_accuracy: 0.4970\n",
      "Epoch 6/100\n",
      "313/313 [==============================] - 2s 6ms/step - loss: 0.6946 - accuracy: 0.5027 - val_loss: 0.6942 - val_accuracy: 0.4970\n",
      "Epoch 7/100\n",
      "313/313 [==============================] - 2s 6ms/step - loss: 0.6941 - accuracy: 0.5035 - val_loss: 0.6934 - val_accuracy: 0.5030\n",
      "Epoch 8/100\n",
      "313/313 [==============================] - 2s 6ms/step - loss: 0.6946 - accuracy: 0.5029 - val_loss: 0.6933 - val_accuracy: 0.4960\n",
      "Epoch 9/100\n",
      "313/313 [==============================] - 2s 6ms/step - loss: 0.6947 - accuracy: 0.4999 - val_loss: 0.6935 - val_accuracy: 0.5030\n",
      "Epoch 10/100\n",
      "313/313 [==============================] - 2s 6ms/step - loss: 0.6942 - accuracy: 0.4987 - val_loss: 0.6937 - val_accuracy: 0.5120\n",
      "Epoch 11/100\n",
      "313/313 [==============================] - 2s 6ms/step - loss: 0.6918 - accuracy: 0.5130 - val_loss: 0.6874 - val_accuracy: 0.5560\n",
      "Epoch 12/100\n",
      "313/313 [==============================] - 2s 6ms/step - loss: 0.6706 - accuracy: 0.5847 - val_loss: 0.6455 - val_accuracy: 0.6470\n",
      "Epoch 13/100\n",
      "313/313 [==============================] - 2s 6ms/step - loss: 0.6415 - accuracy: 0.6446 - val_loss: 0.6208 - val_accuracy: 0.6720\n",
      "Epoch 14/100\n",
      "313/313 [==============================] - 2s 6ms/step - loss: 0.6270 - accuracy: 0.6621 - val_loss: 0.6172 - val_accuracy: 0.6720\n",
      "Epoch 15/100\n",
      "313/313 [==============================] - 2s 6ms/step - loss: 0.6187 - accuracy: 0.6701 - val_loss: 0.5957 - val_accuracy: 0.6940\n",
      "Epoch 16/100\n",
      "313/313 [==============================] - 2s 6ms/step - loss: 0.6011 - accuracy: 0.6804 - val_loss: 0.5814 - val_accuracy: 0.6910\n",
      "Epoch 17/100\n",
      "313/313 [==============================] - 2s 6ms/step - loss: 0.5935 - accuracy: 0.6893 - val_loss: 0.5732 - val_accuracy: 0.7100\n",
      "Epoch 18/100\n",
      "313/313 [==============================] - 2s 6ms/step - loss: 0.5693 - accuracy: 0.7099 - val_loss: 0.5406 - val_accuracy: 0.7200\n",
      "Epoch 19/100\n",
      "313/313 [==============================] - 2s 6ms/step - loss: 0.5456 - accuracy: 0.7284 - val_loss: 0.5093 - val_accuracy: 0.7340\n",
      "Epoch 20/100\n",
      "313/313 [==============================] - 2s 6ms/step - loss: 0.5143 - accuracy: 0.7475 - val_loss: 0.5128 - val_accuracy: 0.7420\n",
      "Epoch 21/100\n",
      "313/313 [==============================] - 2s 6ms/step - loss: 0.4914 - accuracy: 0.7636 - val_loss: 0.4781 - val_accuracy: 0.7580\n",
      "Epoch 22/100\n",
      "313/313 [==============================] - 2s 6ms/step - loss: 0.4775 - accuracy: 0.7714 - val_loss: 0.4500 - val_accuracy: 0.7830\n",
      "Epoch 23/100\n",
      "313/313 [==============================] - 2s 6ms/step - loss: 0.4626 - accuracy: 0.7845 - val_loss: 0.4476 - val_accuracy: 0.7840\n",
      "Epoch 24/100\n",
      "313/313 [==============================] - 2s 6ms/step - loss: 0.4566 - accuracy: 0.7857 - val_loss: 0.4566 - val_accuracy: 0.7940\n",
      "Epoch 25/100\n",
      "313/313 [==============================] - 2s 6ms/step - loss: 0.4389 - accuracy: 0.7986 - val_loss: 0.4111 - val_accuracy: 0.8050\n",
      "Epoch 26/100\n",
      "313/313 [==============================] - 2s 6ms/step - loss: 0.4290 - accuracy: 0.8034 - val_loss: 0.4198 - val_accuracy: 0.8020\n",
      "Epoch 27/100\n",
      "313/313 [==============================] - 2s 6ms/step - loss: 0.4223 - accuracy: 0.8124 - val_loss: 0.4136 - val_accuracy: 0.8010\n",
      "Epoch 28/100\n",
      "313/313 [==============================] - 2s 6ms/step - loss: 0.4139 - accuracy: 0.8138 - val_loss: 0.4078 - val_accuracy: 0.8110\n",
      "Epoch 29/100\n",
      "313/313 [==============================] - 2s 6ms/step - loss: 0.4032 - accuracy: 0.8165 - val_loss: 0.4087 - val_accuracy: 0.8120\n",
      "Epoch 30/100\n",
      "313/313 [==============================] - 2s 6ms/step - loss: 0.4046 - accuracy: 0.8204 - val_loss: 0.4091 - val_accuracy: 0.7990\n",
      "Epoch 31/100\n",
      "313/313 [==============================] - 2s 6ms/step - loss: 0.3916 - accuracy: 0.8274 - val_loss: 0.4115 - val_accuracy: 0.8060\n",
      "Epoch 32/100\n",
      "313/313 [==============================] - 2s 6ms/step - loss: 0.3975 - accuracy: 0.8229 - val_loss: 0.4027 - val_accuracy: 0.8040\n",
      "Epoch 33/100\n",
      "313/313 [==============================] - 2s 6ms/step - loss: 0.3938 - accuracy: 0.8267 - val_loss: 0.4281 - val_accuracy: 0.8030\n",
      "Epoch 34/100\n",
      "313/313 [==============================] - 2s 6ms/step - loss: 0.3867 - accuracy: 0.8313 - val_loss: 0.4012 - val_accuracy: 0.8170\n",
      "Epoch 35/100\n",
      "313/313 [==============================] - 2s 6ms/step - loss: 0.3830 - accuracy: 0.8334 - val_loss: 0.3974 - val_accuracy: 0.8060\n",
      "Epoch 36/100\n",
      "313/313 [==============================] - 2s 6ms/step - loss: 0.3800 - accuracy: 0.8356 - val_loss: 0.4087 - val_accuracy: 0.8070\n",
      "Epoch 37/100\n",
      "313/313 [==============================] - 2s 6ms/step - loss: 0.3735 - accuracy: 0.8338 - val_loss: 0.3905 - val_accuracy: 0.8100\n",
      "Epoch 38/100\n",
      "313/313 [==============================] - 2s 6ms/step - loss: 0.3727 - accuracy: 0.8397 - val_loss: 0.4177 - val_accuracy: 0.8120\n",
      "Epoch 39/100\n",
      "313/313 [==============================] - 2s 6ms/step - loss: 0.3741 - accuracy: 0.8387 - val_loss: 0.3949 - val_accuracy: 0.8100\n",
      "Epoch 40/100\n",
      "313/313 [==============================] - 2s 6ms/step - loss: 0.3689 - accuracy: 0.8400 - val_loss: 0.3994 - val_accuracy: 0.8220\n",
      "Epoch 41/100\n",
      "313/313 [==============================] - 2s 6ms/step - loss: 0.3543 - accuracy: 0.8414 - val_loss: 0.4008 - val_accuracy: 0.8090\n",
      "Epoch 42/100\n",
      "313/313 [==============================] - 2s 6ms/step - loss: 0.3656 - accuracy: 0.8381 - val_loss: 0.4041 - val_accuracy: 0.8010\n",
      "Epoch 43/100\n",
      "313/313 [==============================] - 2s 6ms/step - loss: 0.3522 - accuracy: 0.8478 - val_loss: 0.3920 - val_accuracy: 0.8170\n",
      "Epoch 44/100\n",
      "313/313 [==============================] - 2s 6ms/step - loss: 0.3543 - accuracy: 0.8455 - val_loss: 0.3927 - val_accuracy: 0.8100\n",
      "Epoch 45/100\n",
      "313/313 [==============================] - 2s 6ms/step - loss: 0.3525 - accuracy: 0.8438 - val_loss: 0.4024 - val_accuracy: 0.8020\n",
      "Epoch 46/100\n",
      "313/313 [==============================] - 2s 6ms/step - loss: 0.3504 - accuracy: 0.8501 - val_loss: 0.3991 - val_accuracy: 0.8110\n",
      "Epoch 47/100\n",
      "313/313 [==============================] - 2s 6ms/step - loss: 0.3508 - accuracy: 0.8449 - val_loss: 0.3890 - val_accuracy: 0.8160\n",
      "Epoch 48/100\n",
      "313/313 [==============================] - 2s 6ms/step - loss: 0.3463 - accuracy: 0.8489 - val_loss: 0.4101 - val_accuracy: 0.8120\n",
      "Epoch 49/100\n",
      "313/313 [==============================] - 2s 6ms/step - loss: 0.3356 - accuracy: 0.8570 - val_loss: 0.4085 - val_accuracy: 0.8240\n",
      "Epoch 50/100\n",
      "313/313 [==============================] - 2s 6ms/step - loss: 0.3427 - accuracy: 0.8536 - val_loss: 0.3901 - val_accuracy: 0.8120\n",
      "Epoch 51/100\n",
      "313/313 [==============================] - 2s 6ms/step - loss: 0.3420 - accuracy: 0.8541 - val_loss: 0.4071 - val_accuracy: 0.8140\n",
      "Epoch 52/100\n",
      "313/313 [==============================] - 2s 6ms/step - loss: 0.3345 - accuracy: 0.8558 - val_loss: 0.4354 - val_accuracy: 0.7960\n",
      "Epoch 53/100\n",
      "313/313 [==============================] - 2s 6ms/step - loss: 0.3379 - accuracy: 0.8559 - val_loss: 0.4099 - val_accuracy: 0.8140\n",
      "Epoch 54/100\n",
      "313/313 [==============================] - 2s 6ms/step - loss: 0.3390 - accuracy: 0.8556 - val_loss: 0.3927 - val_accuracy: 0.8090\n",
      "Epoch 55/100\n",
      "313/313 [==============================] - 2s 6ms/step - loss: 0.3318 - accuracy: 0.8540 - val_loss: 0.3925 - val_accuracy: 0.8110\n",
      "Epoch 56/100\n",
      "313/313 [==============================] - 2s 6ms/step - loss: 0.3263 - accuracy: 0.8573 - val_loss: 0.4083 - val_accuracy: 0.8220\n",
      "Epoch 57/100\n",
      "313/313 [==============================] - 2s 6ms/step - loss: 0.3334 - accuracy: 0.8561 - val_loss: 0.3953 - val_accuracy: 0.8190\n",
      "Epoch 58/100\n",
      "313/313 [==============================] - 2s 6ms/step - loss: 0.3232 - accuracy: 0.8609 - val_loss: 0.4374 - val_accuracy: 0.8080\n",
      "Epoch 59/100\n",
      "313/313 [==============================] - 2s 6ms/step - loss: 0.3198 - accuracy: 0.8638 - val_loss: 0.4540 - val_accuracy: 0.7990\n",
      "Epoch 60/100\n",
      "313/313 [==============================] - 2s 6ms/step - loss: 0.3244 - accuracy: 0.8604 - val_loss: 0.4378 - val_accuracy: 0.7990\n",
      "Epoch 61/100\n",
      "313/313 [==============================] - 2s 6ms/step - loss: 0.3237 - accuracy: 0.8594 - val_loss: 0.3978 - val_accuracy: 0.8220\n",
      "Epoch 62/100\n",
      "313/313 [==============================] - 2s 6ms/step - loss: 0.3210 - accuracy: 0.8627 - val_loss: 0.4127 - val_accuracy: 0.8160\n",
      "Epoch 63/100\n",
      "313/313 [==============================] - 2s 6ms/step - loss: 0.3189 - accuracy: 0.8651 - val_loss: 0.4453 - val_accuracy: 0.8080\n",
      "Epoch 64/100\n",
      "313/313 [==============================] - 2s 6ms/step - loss: 0.3163 - accuracy: 0.8680 - val_loss: 0.4161 - val_accuracy: 0.8160\n",
      "Epoch 65/100\n",
      "313/313 [==============================] - 2s 6ms/step - loss: 0.3113 - accuracy: 0.8678 - val_loss: 0.4256 - val_accuracy: 0.8150\n",
      "Epoch 66/100\n",
      "313/313 [==============================] - 2s 6ms/step - loss: 0.3019 - accuracy: 0.8727 - val_loss: 0.4521 - val_accuracy: 0.8030\n",
      "Epoch 67/100\n",
      "313/313 [==============================] - 2s 6ms/step - loss: 0.3034 - accuracy: 0.8697 - val_loss: 0.4342 - val_accuracy: 0.8010\n",
      "Epoch 68/100\n",
      "313/313 [==============================] - 2s 6ms/step - loss: 0.3033 - accuracy: 0.8706 - val_loss: 0.4294 - val_accuracy: 0.8100\n",
      "Epoch 69/100\n",
      "313/313 [==============================] - 2s 6ms/step - loss: 0.3018 - accuracy: 0.8731 - val_loss: 0.4494 - val_accuracy: 0.8110\n",
      "Epoch 70/100\n",
      "313/313 [==============================] - 2s 6ms/step - loss: 0.2961 - accuracy: 0.8715 - val_loss: 0.4569 - val_accuracy: 0.8080\n",
      "Epoch 71/100\n",
      "313/313 [==============================] - 2s 6ms/step - loss: 0.2916 - accuracy: 0.8725 - val_loss: 0.4337 - val_accuracy: 0.8110\n",
      "Epoch 72/100\n",
      "313/313 [==============================] - 2s 6ms/step - loss: 0.3036 - accuracy: 0.8748 - val_loss: 0.4360 - val_accuracy: 0.8140\n",
      "Epoch 73/100\n",
      "313/313 [==============================] - 3s 8ms/step - loss: 0.2936 - accuracy: 0.8747 - val_loss: 0.4366 - val_accuracy: 0.8160\n",
      "Epoch 74/100\n",
      "313/313 [==============================] - 2s 6ms/step - loss: 0.2919 - accuracy: 0.8759 - val_loss: 0.4710 - val_accuracy: 0.8070\n",
      "Epoch 75/100\n",
      "313/313 [==============================] - 2s 6ms/step - loss: 0.2908 - accuracy: 0.8760 - val_loss: 0.4580 - val_accuracy: 0.8050\n",
      "Epoch 76/100\n",
      "313/313 [==============================] - 2s 6ms/step - loss: 0.2909 - accuracy: 0.8759 - val_loss: 0.4324 - val_accuracy: 0.8120\n",
      "Epoch 77/100\n",
      "313/313 [==============================] - 2s 6ms/step - loss: 0.2851 - accuracy: 0.8814 - val_loss: 0.4758 - val_accuracy: 0.8070\n",
      "Epoch 78/100\n",
      "313/313 [==============================] - 2s 6ms/step - loss: 0.2874 - accuracy: 0.8783 - val_loss: 0.4769 - val_accuracy: 0.8040\n",
      "Epoch 79/100\n",
      "313/313 [==============================] - 2s 6ms/step - loss: 0.2879 - accuracy: 0.8769 - val_loss: 0.4947 - val_accuracy: 0.7970\n",
      "Epoch 80/100\n",
      "313/313 [==============================] - 2s 6ms/step - loss: 0.2751 - accuracy: 0.8851 - val_loss: 0.4499 - val_accuracy: 0.8120\n",
      "Epoch 81/100\n",
      "313/313 [==============================] - 2s 6ms/step - loss: 0.2828 - accuracy: 0.8815 - val_loss: 0.4662 - val_accuracy: 0.8130\n",
      "Epoch 82/100\n",
      "313/313 [==============================] - 2s 6ms/step - loss: 0.2735 - accuracy: 0.8886 - val_loss: 0.4875 - val_accuracy: 0.8110\n",
      "Epoch 83/100\n",
      "313/313 [==============================] - 2s 6ms/step - loss: 0.2737 - accuracy: 0.8831 - val_loss: 0.4755 - val_accuracy: 0.8210\n",
      "Epoch 84/100\n",
      "313/313 [==============================] - 2s 6ms/step - loss: 0.2718 - accuracy: 0.8865 - val_loss: 0.4642 - val_accuracy: 0.8160\n",
      "Epoch 85/100\n",
      "313/313 [==============================] - 2s 6ms/step - loss: 0.2712 - accuracy: 0.8871 - val_loss: 0.4703 - val_accuracy: 0.8130\n",
      "Epoch 86/100\n",
      "313/313 [==============================] - 2s 6ms/step - loss: 0.2629 - accuracy: 0.8900 - val_loss: 0.4814 - val_accuracy: 0.8080\n",
      "Epoch 87/100\n",
      "313/313 [==============================] - 2s 6ms/step - loss: 0.2659 - accuracy: 0.8895 - val_loss: 0.4558 - val_accuracy: 0.8120\n",
      "Epoch 88/100\n",
      "313/313 [==============================] - 2s 6ms/step - loss: 0.2686 - accuracy: 0.8926 - val_loss: 0.4774 - val_accuracy: 0.8130\n",
      "Epoch 89/100\n",
      "313/313 [==============================] - 2s 6ms/step - loss: 0.2660 - accuracy: 0.8903 - val_loss: 0.4712 - val_accuracy: 0.8070\n",
      "Epoch 90/100\n",
      "313/313 [==============================] - 2s 6ms/step - loss: 0.2618 - accuracy: 0.8909 - val_loss: 0.4951 - val_accuracy: 0.8120\n",
      "Epoch 91/100\n",
      "313/313 [==============================] - 2s 6ms/step - loss: 0.2563 - accuracy: 0.8934 - val_loss: 0.4678 - val_accuracy: 0.8050\n",
      "Epoch 92/100\n",
      "313/313 [==============================] - 2s 6ms/step - loss: 0.2536 - accuracy: 0.8975 - val_loss: 0.4753 - val_accuracy: 0.8140\n",
      "Epoch 93/100\n",
      "313/313 [==============================] - 2s 6ms/step - loss: 0.2539 - accuracy: 0.8969 - val_loss: 0.4533 - val_accuracy: 0.8180\n",
      "Epoch 94/100\n",
      "313/313 [==============================] - 2s 6ms/step - loss: 0.2546 - accuracy: 0.8949 - val_loss: 0.5083 - val_accuracy: 0.8080\n",
      "Epoch 95/100\n",
      "313/313 [==============================] - 2s 6ms/step - loss: 0.2502 - accuracy: 0.8929 - val_loss: 0.5062 - val_accuracy: 0.8030\n",
      "Epoch 96/100\n",
      "313/313 [==============================] - 2s 6ms/step - loss: 0.2489 - accuracy: 0.8978 - val_loss: 0.5123 - val_accuracy: 0.8090\n",
      "Epoch 97/100\n",
      "313/313 [==============================] - 2s 6ms/step - loss: 0.2482 - accuracy: 0.8992 - val_loss: 0.4884 - val_accuracy: 0.8040\n",
      "Epoch 98/100\n",
      "313/313 [==============================] - 2s 6ms/step - loss: 0.2475 - accuracy: 0.8994 - val_loss: 0.5504 - val_accuracy: 0.8000\n",
      "Epoch 99/100\n",
      "313/313 [==============================] - 2s 6ms/step - loss: 0.2433 - accuracy: 0.8998 - val_loss: 0.5441 - val_accuracy: 0.8030\n",
      "Epoch 100/100\n",
      "313/313 [==============================] - 2s 6ms/step - loss: 0.2385 - accuracy: 0.9023 - val_loss: 0.5459 - val_accuracy: 0.8130\n"
     ]
    }
   ],
   "source": [
    "history = model.fit([inputs_train, queries_train], answers_train, batch_size=32, epochs=100, validation_data=([inputs_test, queries_test], answers_test))"
   ]
  },
  {
   "cell_type": "code",
   "execution_count": 167,
   "metadata": {},
   "outputs": [
    {
     "name": "stdout",
     "output_type": "stream",
     "text": [
      "dict_keys(['loss', 'accuracy', 'val_loss', 'val_accuracy'])\n"
     ]
    },
    {
     "data": {
      "image/png": "[encoded data removed]",
      "text/plain": [
       "<Figure size 640x480 with 1 Axes>"
      ]
     },
     "metadata": {},
     "output_type": "display_data"
    }
   ],
   "source": [
    "import matplotlib.pyplot as plt\n",
    "%matplotlib inline\n",
    "print(history.history.keys())\n",
    "# summarize history for accuracy\n",
    "plt.plot(history.history['accuracy'])\n",
    "plt.plot(history.history['val_accuracy'])\n",
    "plt.title('model accuracy')\n",
    "plt.ylabel('accuracy')\n",
    "plt.xlabel('epoch')\n",
    "plt.legend(['train', 'test'], loc='upper left')\n",
    "plt.show()"
   ]
  },
  {
   "cell_type": "code",
   "execution_count": 168,
   "metadata": {},
   "outputs": [],
   "source": [
    "# model.save('mybrandnewmodel.h5')"
   ]
  },
  {
   "cell_type": "code",
   "execution_count": 169,
   "metadata": {},
   "outputs": [],
   "source": [
    "# model.load_weights('chatbot_10.h5')\n",
    "model.load_weights('mybrandnewmodel.h5')"
   ]
  },
  {
   "cell_type": "code",
   "execution_count": 170,
   "metadata": {},
   "outputs": [
    {
     "name": "stdout",
     "output_type": "stream",
     "text": [
      "32/32 [==============================] - 0s 2ms/step\n"
     ]
    }
   ],
   "source": [
    "pred_results = model.predict(([inputs_test, queries_test]))"
   ]
  },
  {
   "cell_type": "code",
   "execution_count": 171,
   "metadata": {},
   "outputs": [
    {
     "data": {
      "text/plain": [
       "['Mary',\n",
       " 'got',\n",
       " 'the',\n",
       " 'milk',\n",
       " 'there',\n",
       " '.',\n",
       " 'John',\n",
       " 'moved',\n",
       " 'to',\n",
       " 'the',\n",
       " 'bedroom',\n",
       " '.']"
      ]
     },
     "execution_count": 171,
     "metadata": {},
     "output_type": "execute_result"
    }
   ],
   "source": [
    "test_data[0][0]"
   ]
  },
  {
   "cell_type": "code",
   "execution_count": 172,
   "metadata": {},
   "outputs": [
    {
     "data": {
      "text/plain": [
       "['Is', 'John', 'in', 'the', 'kitchen', '?']"
      ]
     },
     "execution_count": 172,
     "metadata": {},
     "output_type": "execute_result"
    }
   ],
   "source": [
    "test_data[0][1]"
   ]
  },
  {
   "cell_type": "code",
   "execution_count": 173,
   "metadata": {},
   "outputs": [
    {
     "data": {
      "text/plain": [
       "'no'"
      ]
     },
     "execution_count": 173,
     "metadata": {},
     "output_type": "execute_result"
    }
   ],
   "source": [
    "test_data[0][2]"
   ]
  },
  {
   "cell_type": "code",
   "execution_count": 174,
   "metadata": {},
   "outputs": [
    {
     "data": {
      "text/plain": [
       "array([1.4327198e-15, 1.3525088e-15, 1.2906663e-15, 1.3819074e-15,\n",
       "       1.3729275e-15, 1.4243603e-15, 1.2318256e-15, 5.0841965e-02,\n",
       "       1.4117564e-15, 1.5762924e-15, 1.2805539e-15, 1.3217071e-15,\n",
       "       1.4731441e-15, 1.5116613e-15, 1.2734516e-15, 1.3571861e-15,\n",
       "       1.4089802e-15, 1.7748036e-15, 1.2364063e-15, 1.2961926e-15,\n",
       "       1.4803887e-15, 1.4731441e-15, 1.3514773e-15, 1.5581718e-15,\n",
       "       1.4063598e-15, 1.2656931e-15, 1.4182986e-15, 1.3604932e-15,\n",
       "       1.5822507e-15, 1.5581480e-15, 1.6258703e-15, 9.4915801e-01,\n",
       "       1.4503384e-15, 1.5380635e-15, 1.2516012e-15, 1.4430923e-15,\n",
       "       1.3892967e-15, 1.3258987e-15], dtype=float32)"
      ]
     },
     "execution_count": 174,
     "metadata": {},
     "output_type": "execute_result"
    }
   ],
   "source": [
    "pred_results[0]"
   ]
  },
  {
   "cell_type": "code",
   "execution_count": 175,
   "metadata": {},
   "outputs": [],
   "source": [
    "val_max = np.argmax(pred_results[0])"
   ]
  },
  {
   "cell_type": "code",
   "execution_count": 176,
   "metadata": {},
   "outputs": [],
   "source": [
    "for key, val in tokenizer.word_index.items():\n",
    "    if val == val_max:\n",
    "        k = key"
   ]
  },
  {
   "cell_type": "code",
   "execution_count": 177,
   "metadata": {},
   "outputs": [
    {
     "data": {
      "text/plain": [
       "'no'"
      ]
     },
     "execution_count": 177,
     "metadata": {},
     "output_type": "execute_result"
    }
   ],
   "source": [
    "k"
   ]
  },
  {
   "cell_type": "code",
   "execution_count": 178,
   "metadata": {},
   "outputs": [
    {
     "data": {
      "text/plain": [
       "0.949158"
      ]
     },
     "execution_count": 178,
     "metadata": {},
     "output_type": "execute_result"
    }
   ],
   "source": [
    "pred_results[0][val_max]"
   ]
  },
  {
   "cell_type": "code",
   "execution_count": 179,
   "metadata": {},
   "outputs": [
    {
     "data": {
      "text/plain": [
       "{'.',\n",
       " '?',\n",
       " 'Daniel',\n",
       " 'Is',\n",
       " 'John',\n",
       " 'Mary',\n",
       " 'Sandra',\n",
       " 'apple',\n",
       " 'back',\n",
       " 'bathroom',\n",
       " 'bedroom',\n",
       " 'discarded',\n",
       " 'down',\n",
       " 'dropped',\n",
       " 'football',\n",
       " 'garden',\n",
       " 'got',\n",
       " 'grabbed',\n",
       " 'hallway',\n",
       " 'in',\n",
       " 'journeyed',\n",
       " 'kitchen',\n",
       " 'left',\n",
       " 'milk',\n",
       " 'moved',\n",
       " 'no',\n",
       " 'office',\n",
       " 'picked',\n",
       " 'put',\n",
       " 'the',\n",
       " 'there',\n",
       " 'to',\n",
       " 'took',\n",
       " 'travelled',\n",
       " 'up',\n",
       " 'went',\n",
       " 'yes'}"
      ]
     },
     "execution_count": 179,
     "metadata": {},
     "output_type": "execute_result"
    }
   ],
   "source": [
    "vocab"
   ]
  },
  {
   "cell_type": "code",
   "execution_count": 180,
   "metadata": {},
   "outputs": [],
   "source": [
    "my_story = \"John left the kitchen . Sandra dropped the football in the garden .\""
   ]
  },
  {
   "cell_type": "code",
   "execution_count": 181,
   "metadata": {},
   "outputs": [
    {
     "data": {
      "text/plain": [
       "['John',\n",
       " 'left',\n",
       " 'the',\n",
       " 'kitchen',\n",
       " '.',\n",
       " 'Sandra',\n",
       " 'dropped',\n",
       " 'the',\n",
       " 'football',\n",
       " 'in',\n",
       " 'the',\n",
       " 'garden',\n",
       " '.']"
      ]
     },
     "execution_count": 181,
     "metadata": {},
     "output_type": "execute_result"
    }
   ],
   "source": [
    "my_story.split()"
   ]
  },
  {
   "cell_type": "code",
   "execution_count": 182,
   "metadata": {},
   "outputs": [],
   "source": [
    "my_question = \"Is the football in the garden ?\""
   ]
  },
  {
   "cell_type": "code",
   "execution_count": 183,
   "metadata": {},
   "outputs": [
    {
     "data": {
      "text/plain": [
       "['Is', 'the', 'football', 'in', 'the', 'garden', '?']"
      ]
     },
     "execution_count": 183,
     "metadata": {},
     "output_type": "execute_result"
    }
   ],
   "source": [
    "my_question.split()"
   ]
  },
  {
   "cell_type": "code",
   "execution_count": 184,
   "metadata": {},
   "outputs": [],
   "source": [
    "my_data = [(my_story.split(), my_question.split(), 'yes')]"
   ]
  },
  {
   "cell_type": "code",
   "execution_count": 185,
   "metadata": {},
   "outputs": [],
   "source": [
    "my_story, my_ques, my_ans = vectorize_stories(my_data)"
   ]
  },
  {
   "cell_type": "code",
   "execution_count": 186,
   "metadata": {},
   "outputs": [
    {
     "data": {
      "text/plain": [
       "array([[ 0,  0,  0,  0,  0,  0,  0,  0,  0,  0,  0,  0,  0,  0,  0,  0,\n",
       "         0,  0,  0,  0,  0,  0,  0,  0,  0,  0,  0,  0,  0,  0,  0,  0,\n",
       "         0,  0,  0,  0,  0,  0,  0,  0,  0,  0,  0,  0,  0,  0,  0,  0,\n",
       "         0,  0,  0,  0,  0,  0,  0,  0,  0,  0,  0,  0,  0,  0,  0,  0,\n",
       "         0,  0,  0,  0,  0,  0,  0,  0,  0,  0,  0,  0,  0,  0,  0,  0,\n",
       "         0,  0,  0,  0,  0,  0,  0,  0,  0,  0,  0,  0,  0,  0,  0,  0,\n",
       "         0,  0,  0,  0,  0,  0,  0,  0,  0,  0,  0,  0,  0,  0,  0,  0,\n",
       "         0,  0,  0,  0,  0,  0,  0,  0,  0,  0,  0,  0,  0,  0,  0,  0,\n",
       "         0,  0,  0,  0,  0,  0,  0,  0,  0,  0,  0,  0,  0,  0,  0, 36,\n",
       "        20,  3, 13, 19, 21, 15,  3,  8, 22,  3, 18, 19]], dtype=int32)"
      ]
     },
     "execution_count": 186,
     "metadata": {},
     "output_type": "execute_result"
    }
   ],
   "source": [
    "my_story"
   ]
  },
  {
   "cell_type": "code",
   "execution_count": 187,
   "metadata": {},
   "outputs": [
    {
     "name": "stdout",
     "output_type": "stream",
     "text": [
      "1/1 [==============================] - 0s 27ms/step\n"
     ]
    }
   ],
   "source": [
    "pred_results = model.predict(([my_story, my_ques]))"
   ]
  },
  {
   "cell_type": "code",
   "execution_count": 188,
   "metadata": {},
   "outputs": [],
   "source": [
    "val_max = np.argmax(pred_results[0])"
   ]
  },
  {
   "cell_type": "code",
   "execution_count": 189,
   "metadata": {},
   "outputs": [],
   "source": [
    "for key, val in tokenizer.word_index.items():\n",
    "    if val == val_max:\n",
    "        k = key"
   ]
  },
  {
   "cell_type": "code",
   "execution_count": 190,
   "metadata": {},
   "outputs": [
    {
     "data": {
      "text/plain": [
       "'yes'"
      ]
     },
     "execution_count": 190,
     "metadata": {},
     "output_type": "execute_result"
    }
   ],
   "source": [
    "k"
   ]
  },
  {
   "cell_type": "code",
   "execution_count": 191,
   "metadata": {},
   "outputs": [
    {
     "data": {
      "text/plain": [
       "0.9973349"
      ]
     },
     "execution_count": 191,
     "metadata": {},
     "output_type": "execute_result"
    }
   ],
   "source": [
    "pred_results[0][val_max]"
   ]
  },
  {
   "cell_type": "code",
   "execution_count": null,
   "metadata": {},
   "outputs": [],
   "source": []
  }
 ],
 "metadata": {
  "kernelspec": {
   "display_name": "nlp_course2",
   "language": "python",
   "name": "python3"
  },
  "language_info": {
   "codemirror_mode": {
    "name": "ipython",
    "version": 3
   },
   "file_extension": ".py",
   "mimetype": "text/x-python",
   "name": "python",
   "nbconvert_exporter": "python",
   "pygments_lexer": "ipython3",
   "version": "3.10.12"
  },
  "orig_nbformat": 4
 },
 "nbformat": 4,
 "nbformat_minor": 2
}
