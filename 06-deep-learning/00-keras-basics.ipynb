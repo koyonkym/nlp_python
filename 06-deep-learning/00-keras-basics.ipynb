{
 "cells": [
  {
   "cell_type": "code",
   "execution_count": 1,
   "metadata": {},
   "outputs": [],
   "source": [
    "import numpy as np"
   ]
  },
  {
   "cell_type": "code",
   "execution_count": 2,
   "metadata": {},
   "outputs": [],
   "source": [
    "from sklearn.datasets import load_iris"
   ]
  },
  {
   "cell_type": "code",
   "execution_count": 3,
   "metadata": {},
   "outputs": [],
   "source": [
    "iris = load_iris()"
   ]
  },
  {
   "cell_type": "code",
   "execution_count": 4,
   "metadata": {},
   "outputs": [
    {
     "data": {
      "text/plain": [
       "sklearn.utils._bunch.Bunch"
      ]
     },
     "execution_count": 4,
     "metadata": {},
     "output_type": "execute_result"
    }
   ],
   "source": [
    "type(iris)"
   ]
  },
  {
   "cell_type": "code",
   "execution_count": 5,
   "metadata": {},
   "outputs": [
    {
     "name": "stdout",
     "output_type": "stream",
     "text": [
      ".. _iris_dataset:\n",
      "\n",
      "Iris plants dataset\n",
      "--------------------\n",
      "\n",
      "**Data Set Characteristics:**\n",
      "\n",
      "    :Number of Instances: 150 (50 in each of three classes)\n",
      "    :Number of Attributes: 4 numeric, predictive attributes and the class\n",
      "    :Attribute Information:\n",
      "        - sepal length in cm\n",
      "        - sepal width in cm\n",
      "        - petal length in cm\n",
      "        - petal width in cm\n",
      "        - class:\n",
      "                - Iris-Setosa\n",
      "                - Iris-Versicolour\n",
      "                - Iris-Virginica\n",
      "                \n",
      "    :Summary Statistics:\n",
      "\n",
      "    ============== ==== ==== ======= ===== ====================\n",
      "                    Min  Max   Mean    SD   Class Correlation\n",
      "    ============== ==== ==== ======= ===== ====================\n",
      "    sepal length:   4.3  7.9   5.84   0.83    0.7826\n",
      "    sepal width:    2.0  4.4   3.05   0.43   -0.4194\n",
      "    petal length:   1.0  6.9   3.76   1.76    0.9490  (high!)\n",
      "    petal width:    0.1  2.5   1.20   0.76    0.9565  (high!)\n",
      "    ============== ==== ==== ======= ===== ====================\n",
      "\n",
      "    :Missing Attribute Values: None\n",
      "    :Class Distribution: 33.3% for each of 3 classes.\n",
      "    :Creator: R.A. Fisher\n",
      "    :Donor: Michael Marshall (MARSHALL%PLU@io.arc.nasa.gov)\n",
      "    :Date: July, 1988\n",
      "\n",
      "The famous Iris database, first used by Sir R.A. Fisher. The dataset is taken\n",
      "from Fisher's paper. Note that it's the same as in R, but not as in the UCI\n",
      "Machine Learning Repository, which has two wrong data points.\n",
      "\n",
      "This is perhaps the best known database to be found in the\n",
      "pattern recognition literature.  Fisher's paper is a classic in the field and\n",
      "is referenced frequently to this day.  (See Duda & Hart, for example.)  The\n",
      "data set contains 3 classes of 50 instances each, where each class refers to a\n",
      "type of iris plant.  One class is linearly separable from the other 2; the\n",
      "latter are NOT linearly separable from each other.\n",
      "\n",
      ".. topic:: References\n",
      "\n",
      "   - Fisher, R.A. \"The use of multiple measurements in taxonomic problems\"\n",
      "     Annual Eugenics, 7, Part II, 179-188 (1936); also in \"Contributions to\n",
      "     Mathematical Statistics\" (John Wiley, NY, 1950).\n",
      "   - Duda, R.O., & Hart, P.E. (1973) Pattern Classification and Scene Analysis.\n",
      "     (Q327.D83) John Wiley & Sons.  ISBN 0-471-22361-1.  See page 218.\n",
      "   - Dasarathy, B.V. (1980) \"Nosing Around the Neighborhood: A New System\n",
      "     Structure and Classification Rule for Recognition in Partially Exposed\n",
      "     Environments\".  IEEE Transactions on Pattern Analysis and Machine\n",
      "     Intelligence, Vol. PAMI-2, No. 1, 67-71.\n",
      "   - Gates, G.W. (1972) \"The Reduced Nearest Neighbor Rule\".  IEEE Transactions\n",
      "     on Information Theory, May 1972, 431-433.\n",
      "   - See also: 1988 MLC Proceedings, 54-64.  Cheeseman et al\"s AUTOCLASS II\n",
      "     conceptual clustering system finds 3 classes in the data.\n",
      "   - Many, many more ...\n"
     ]
    }
   ],
   "source": [
    "print(iris.DESCR)"
   ]
  },
  {
   "cell_type": "code",
   "execution_count": 6,
   "metadata": {},
   "outputs": [],
   "source": [
    "X = iris.data"
   ]
  },
  {
   "cell_type": "code",
   "execution_count": 7,
   "metadata": {},
   "outputs": [],
   "source": [
    "# X"
   ]
  },
  {
   "cell_type": "code",
   "execution_count": 8,
   "metadata": {},
   "outputs": [],
   "source": [
    "y = iris.target"
   ]
  },
  {
   "cell_type": "code",
   "execution_count": 9,
   "metadata": {},
   "outputs": [
    {
     "data": {
      "text/plain": [
       "array([0, 0, 0, 0, 0, 0, 0, 0, 0, 0, 0, 0, 0, 0, 0, 0, 0, 0, 0, 0, 0, 0,\n",
       "       0, 0, 0, 0, 0, 0, 0, 0, 0, 0, 0, 0, 0, 0, 0, 0, 0, 0, 0, 0, 0, 0,\n",
       "       0, 0, 0, 0, 0, 0, 1, 1, 1, 1, 1, 1, 1, 1, 1, 1, 1, 1, 1, 1, 1, 1,\n",
       "       1, 1, 1, 1, 1, 1, 1, 1, 1, 1, 1, 1, 1, 1, 1, 1, 1, 1, 1, 1, 1, 1,\n",
       "       1, 1, 1, 1, 1, 1, 1, 1, 1, 1, 1, 1, 2, 2, 2, 2, 2, 2, 2, 2, 2, 2,\n",
       "       2, 2, 2, 2, 2, 2, 2, 2, 2, 2, 2, 2, 2, 2, 2, 2, 2, 2, 2, 2, 2, 2,\n",
       "       2, 2, 2, 2, 2, 2, 2, 2, 2, 2, 2, 2, 2, 2, 2, 2, 2, 2])"
      ]
     },
     "execution_count": 9,
     "metadata": {},
     "output_type": "execute_result"
    }
   ],
   "source": [
    "y"
   ]
  },
  {
   "cell_type": "code",
   "execution_count": 10,
   "metadata": {},
   "outputs": [],
   "source": [
    "# class 0 --> [1, 0, 0]\n",
    "# class 1 --> [0, 1, 0]\n",
    "# class 2 --> [0, 0, 1]"
   ]
  },
  {
   "cell_type": "code",
   "execution_count": 11,
   "metadata": {},
   "outputs": [
    {
     "name": "stderr",
     "output_type": "stream",
     "text": [
      "2023-08-22 22:35:26.936217: I tensorflow/core/platform/cpu_feature_guard.cc:193] This TensorFlow binary is optimized with oneAPI Deep Neural Network Library (oneDNN) to use the following CPU instructions in performance-critical operations:  SSE4.1 SSE4.2\n",
      "To enable them in other operations, rebuild TensorFlow with the appropriate compiler flags.\n"
     ]
    }
   ],
   "source": [
    "from keras.utils import to_categorical"
   ]
  },
  {
   "cell_type": "code",
   "execution_count": 12,
   "metadata": {},
   "outputs": [],
   "source": [
    "y = to_categorical(y)"
   ]
  },
  {
   "cell_type": "code",
   "execution_count": 13,
   "metadata": {},
   "outputs": [
    {
     "data": {
      "text/plain": [
       "(150, 3)"
      ]
     },
     "execution_count": 13,
     "metadata": {},
     "output_type": "execute_result"
    }
   ],
   "source": [
    "y.shape"
   ]
  },
  {
   "cell_type": "code",
   "execution_count": 14,
   "metadata": {},
   "outputs": [],
   "source": [
    "# y"
   ]
  },
  {
   "cell_type": "code",
   "execution_count": 15,
   "metadata": {},
   "outputs": [],
   "source": [
    "from sklearn.model_selection import train_test_split"
   ]
  },
  {
   "cell_type": "code",
   "execution_count": 16,
   "metadata": {},
   "outputs": [],
   "source": [
    "X_train, X_test, y_train, y_test = train_test_split(X, y, test_size=0.33, random_state=42)"
   ]
  },
  {
   "cell_type": "code",
   "execution_count": 17,
   "metadata": {},
   "outputs": [],
   "source": [
    "# y_test"
   ]
  },
  {
   "cell_type": "code",
   "execution_count": 18,
   "metadata": {},
   "outputs": [],
   "source": [
    "from sklearn.preprocessing import MinMaxScaler"
   ]
  },
  {
   "cell_type": "code",
   "execution_count": 19,
   "metadata": {},
   "outputs": [],
   "source": [
    "# np.array([5, 10, 15, 20])/20"
   ]
  },
  {
   "cell_type": "code",
   "execution_count": 20,
   "metadata": {},
   "outputs": [],
   "source": [
    "scaler_object = MinMaxScaler()"
   ]
  },
  {
   "cell_type": "code",
   "execution_count": 21,
   "metadata": {},
   "outputs": [
    {
     "data": {
      "text/html": [
       "<style>#sk-container-id-1 {color: black;}#sk-container-id-1 pre{padding: 0;}#sk-container-id-1 div.sk-toggleable {background-color: white;}#sk-container-id-1 label.sk-toggleable__label {cursor: pointer;display: block;width: 100%;margin-bottom: 0;padding: 0.3em;box-sizing: border-box;text-align: center;}#sk-container-id-1 label.sk-toggleable__label-arrow:before {content: \"▸\";float: left;margin-right: 0.25em;color: #696969;}#sk-container-id-1 label.sk-toggleable__label-arrow:hover:before {color: black;}#sk-container-id-1 div.sk-estimator:hover label.sk-toggleable__label-arrow:before {color: black;}#sk-container-id-1 div.sk-toggleable__content {max-height: 0;max-width: 0;overflow: hidden;text-align: left;background-color: #f0f8ff;}#sk-container-id-1 div.sk-toggleable__content pre {margin: 0.2em;color: black;border-radius: 0.25em;background-color: #f0f8ff;}#sk-container-id-1 input.sk-toggleable__control:checked~div.sk-toggleable__content {max-height: 200px;max-width: 100%;overflow: auto;}#sk-container-id-1 input.sk-toggleable__control:checked~label.sk-toggleable__label-arrow:before {content: \"▾\";}#sk-container-id-1 div.sk-estimator input.sk-toggleable__control:checked~label.sk-toggleable__label {background-color: #d4ebff;}#sk-container-id-1 div.sk-label input.sk-toggleable__control:checked~label.sk-toggleable__label {background-color: #d4ebff;}#sk-container-id-1 input.sk-hidden--visually {border: 0;clip: rect(1px 1px 1px 1px);clip: rect(1px, 1px, 1px, 1px);height: 1px;margin: -1px;overflow: hidden;padding: 0;position: absolute;width: 1px;}#sk-container-id-1 div.sk-estimator {font-family: monospace;background-color: #f0f8ff;border: 1px dotted black;border-radius: 0.25em;box-sizing: border-box;margin-bottom: 0.5em;}#sk-container-id-1 div.sk-estimator:hover {background-color: #d4ebff;}#sk-container-id-1 div.sk-parallel-item::after {content: \"\";width: 100%;border-bottom: 1px solid gray;flex-grow: 1;}#sk-container-id-1 div.sk-label:hover label.sk-toggleable__label {background-color: #d4ebff;}#sk-container-id-1 div.sk-serial::before {content: \"\";position: absolute;border-left: 1px solid gray;box-sizing: border-box;top: 0;bottom: 0;left: 50%;z-index: 0;}#sk-container-id-1 div.sk-serial {display: flex;flex-direction: column;align-items: center;background-color: white;padding-right: 0.2em;padding-left: 0.2em;position: relative;}#sk-container-id-1 div.sk-item {position: relative;z-index: 1;}#sk-container-id-1 div.sk-parallel {display: flex;align-items: stretch;justify-content: center;background-color: white;position: relative;}#sk-container-id-1 div.sk-item::before, #sk-container-id-1 div.sk-parallel-item::before {content: \"\";position: absolute;border-left: 1px solid gray;box-sizing: border-box;top: 0;bottom: 0;left: 50%;z-index: -1;}#sk-container-id-1 div.sk-parallel-item {display: flex;flex-direction: column;z-index: 1;position: relative;background-color: white;}#sk-container-id-1 div.sk-parallel-item:first-child::after {align-self: flex-end;width: 50%;}#sk-container-id-1 div.sk-parallel-item:last-child::after {align-self: flex-start;width: 50%;}#sk-container-id-1 div.sk-parallel-item:only-child::after {width: 0;}#sk-container-id-1 div.sk-dashed-wrapped {border: 1px dashed gray;margin: 0 0.4em 0.5em 0.4em;box-sizing: border-box;padding-bottom: 0.4em;background-color: white;}#sk-container-id-1 div.sk-label label {font-family: monospace;font-weight: bold;display: inline-block;line-height: 1.2em;}#sk-container-id-1 div.sk-label-container {text-align: center;}#sk-container-id-1 div.sk-container {/* jupyter's `normalize.less` sets `[hidden] { display: none; }` but bootstrap.min.css set `[hidden] { display: none !important; }` so we also need the `!important` here to be able to override the default hidden behavior on the sphinx rendered scikit-learn.org. See: https://github.com/scikit-learn/scikit-learn/issues/21755 */display: inline-block !important;position: relative;}#sk-container-id-1 div.sk-text-repr-fallback {display: none;}</style><div id=\"sk-container-id-1\" class=\"sk-top-container\"><div class=\"sk-text-repr-fallback\"><pre>MinMaxScaler()</pre><b>In a Jupyter environment, please rerun this cell to show the HTML representation or trust the notebook. <br />On GitHub, the HTML representation is unable to render, please try loading this page with nbviewer.org.</b></div><div class=\"sk-container\" hidden><div class=\"sk-item\"><div class=\"sk-estimator sk-toggleable\"><input class=\"sk-toggleable__control sk-hidden--visually\" id=\"sk-estimator-id-1\" type=\"checkbox\" checked><label for=\"sk-estimator-id-1\" class=\"sk-toggleable__label sk-toggleable__label-arrow\">MinMaxScaler</label><div class=\"sk-toggleable__content\"><pre>MinMaxScaler()</pre></div></div></div></div></div>"
      ],
      "text/plain": [
       "MinMaxScaler()"
      ]
     },
     "execution_count": 21,
     "metadata": {},
     "output_type": "execute_result"
    }
   ],
   "source": [
    "scaler_object.fit(X_train)"
   ]
  },
  {
   "cell_type": "code",
   "execution_count": 22,
   "metadata": {},
   "outputs": [],
   "source": [
    "scaled_X_train = scaler_object.transform(X_train)"
   ]
  },
  {
   "cell_type": "code",
   "execution_count": 23,
   "metadata": {},
   "outputs": [],
   "source": [
    "scaled_X_test = scaler_object.transform(X_test)"
   ]
  },
  {
   "cell_type": "code",
   "execution_count": 24,
   "metadata": {},
   "outputs": [],
   "source": [
    "# scaled_X_train"
   ]
  },
  {
   "cell_type": "code",
   "execution_count": 25,
   "metadata": {},
   "outputs": [],
   "source": [
    "from keras.models import Sequential\n",
    "from keras.layers import Dense"
   ]
  },
  {
   "cell_type": "code",
   "execution_count": 26,
   "metadata": {},
   "outputs": [
    {
     "name": "stderr",
     "output_type": "stream",
     "text": [
      "2023-08-22 22:43:53.415534: I tensorflow/core/platform/cpu_feature_guard.cc:193] This TensorFlow binary is optimized with oneAPI Deep Neural Network Library (oneDNN) to use the following CPU instructions in performance-critical operations:  SSE4.1 SSE4.2\n",
      "To enable them in other operations, rebuild TensorFlow with the appropriate compiler flags.\n"
     ]
    }
   ],
   "source": [
    "model = Sequential()\n",
    "model.add(Dense(8, input_dim=4, activation='relu'))\n",
    "model.add(Dense(8, input_dim=4, activation='relu'))\n",
    "model.add(Dense(3, activation='softmax')) # [0.2, 0.3, 0.5]\n",
    "model.compile(loss='categorical_crossentropy', optimizer='adam', metrics=['accuracy'])"
   ]
  },
  {
   "cell_type": "code",
   "execution_count": 27,
   "metadata": {},
   "outputs": [
    {
     "name": "stdout",
     "output_type": "stream",
     "text": [
      "Model: \"sequential\"\n",
      "_________________________________________________________________\n",
      " Layer (type)                Output Shape              Param #   \n",
      "=================================================================\n",
      " dense (Dense)               (None, 8)                 40        \n",
      "                                                                 \n",
      " dense_1 (Dense)             (None, 8)                 72        \n",
      "                                                                 \n",
      " dense_2 (Dense)             (None, 3)                 27        \n",
      "                                                                 \n",
      "=================================================================\n",
      "Total params: 139\n",
      "Trainable params: 139\n",
      "Non-trainable params: 0\n",
      "_________________________________________________________________\n"
     ]
    }
   ],
   "source": [
    "model.summary()"
   ]
  },
  {
   "cell_type": "code",
   "execution_count": 28,
   "metadata": {},
   "outputs": [
    {
     "name": "stdout",
     "output_type": "stream",
     "text": [
      "Epoch 1/150\n",
      "4/4 - 0s - loss: 1.0924 - accuracy: 0.3500 - 276ms/epoch - 69ms/step\n",
      "Epoch 2/150\n",
      "4/4 - 0s - loss: 1.0867 - accuracy: 0.3500 - 3ms/epoch - 716us/step\n",
      "Epoch 3/150\n",
      "4/4 - 0s - loss: 1.0825 - accuracy: 0.3500 - 3ms/epoch - 687us/step\n",
      "Epoch 4/150\n",
      "4/4 - 0s - loss: 1.0776 - accuracy: 0.3500 - 3ms/epoch - 749us/step\n",
      "Epoch 5/150\n",
      "4/4 - 0s - loss: 1.0718 - accuracy: 0.3600 - 3ms/epoch - 846us/step\n",
      "Epoch 6/150\n",
      "4/4 - 0s - loss: 1.0667 - accuracy: 0.3800 - 3ms/epoch - 761us/step\n",
      "Epoch 7/150\n",
      "4/4 - 0s - loss: 1.0610 - accuracy: 0.3900 - 5ms/epoch - 1ms/step\n",
      "Epoch 8/150\n",
      "4/4 - 0s - loss: 1.0558 - accuracy: 0.4100 - 4ms/epoch - 1ms/step\n",
      "Epoch 9/150\n",
      "4/4 - 0s - loss: 1.0501 - accuracy: 0.4200 - 4ms/epoch - 903us/step\n",
      "Epoch 10/150\n",
      "4/4 - 0s - loss: 1.0448 - accuracy: 0.4200 - 5ms/epoch - 1ms/step\n",
      "Epoch 11/150\n",
      "4/4 - 0s - loss: 1.0392 - accuracy: 0.4300 - 4ms/epoch - 931us/step\n",
      "Epoch 12/150\n",
      "4/4 - 0s - loss: 1.0335 - accuracy: 0.5800 - 4ms/epoch - 1ms/step\n",
      "Epoch 13/150\n",
      "4/4 - 0s - loss: 1.0279 - accuracy: 0.6800 - 3ms/epoch - 847us/step\n",
      "Epoch 14/150\n",
      "4/4 - 0s - loss: 1.0217 - accuracy: 0.7000 - 5ms/epoch - 1ms/step\n",
      "Epoch 15/150\n",
      "4/4 - 0s - loss: 1.0159 - accuracy: 0.7300 - 4ms/epoch - 899us/step\n",
      "Epoch 16/150\n",
      "4/4 - 0s - loss: 1.0098 - accuracy: 0.7400 - 5ms/epoch - 1ms/step\n",
      "Epoch 17/150\n",
      "4/4 - 0s - loss: 1.0039 - accuracy: 0.7500 - 3ms/epoch - 838us/step\n",
      "Epoch 18/150\n",
      "4/4 - 0s - loss: 0.9977 - accuracy: 0.7300 - 3ms/epoch - 857us/step\n",
      "Epoch 19/150\n",
      "4/4 - 0s - loss: 0.9919 - accuracy: 0.7300 - 5ms/epoch - 1ms/step\n",
      "Epoch 20/150\n",
      "4/4 - 0s - loss: 0.9854 - accuracy: 0.7600 - 4ms/epoch - 1ms/step\n",
      "Epoch 21/150\n",
      "4/4 - 0s - loss: 0.9791 - accuracy: 0.7500 - 4ms/epoch - 881us/step\n",
      "Epoch 22/150\n",
      "4/4 - 0s - loss: 0.9731 - accuracy: 0.7700 - 5ms/epoch - 1ms/step\n",
      "Epoch 23/150\n",
      "4/4 - 0s - loss: 0.9670 - accuracy: 0.7800 - 3ms/epoch - 805us/step\n",
      "Epoch 24/150\n",
      "4/4 - 0s - loss: 0.9606 - accuracy: 0.7800 - 5ms/epoch - 1ms/step\n",
      "Epoch 25/150\n",
      "4/4 - 0s - loss: 0.9545 - accuracy: 0.7900 - 3ms/epoch - 763us/step\n",
      "Epoch 26/150\n",
      "4/4 - 0s - loss: 0.9475 - accuracy: 0.7900 - 3ms/epoch - 828us/step\n",
      "Epoch 27/150\n",
      "4/4 - 0s - loss: 0.9406 - accuracy: 0.8100 - 4ms/epoch - 881us/step\n",
      "Epoch 28/150\n",
      "4/4 - 0s - loss: 0.9335 - accuracy: 0.8200 - 3ms/epoch - 785us/step\n",
      "Epoch 29/150\n",
      "4/4 - 0s - loss: 0.9262 - accuracy: 0.8100 - 4ms/epoch - 937us/step\n",
      "Epoch 30/150\n",
      "4/4 - 0s - loss: 0.9191 - accuracy: 0.8200 - 10ms/epoch - 2ms/step\n",
      "Epoch 31/150\n",
      "4/4 - 0s - loss: 0.9119 - accuracy: 0.8200 - 11ms/epoch - 3ms/step\n",
      "Epoch 32/150\n",
      "4/4 - 0s - loss: 0.9045 - accuracy: 0.8000 - 9ms/epoch - 2ms/step\n",
      "Epoch 33/150\n",
      "4/4 - 0s - loss: 0.8971 - accuracy: 0.7800 - 5ms/epoch - 1ms/step\n",
      "Epoch 34/150\n",
      "4/4 - 0s - loss: 0.8903 - accuracy: 0.7900 - 3ms/epoch - 739us/step\n",
      "Epoch 35/150\n",
      "4/4 - 0s - loss: 0.8829 - accuracy: 0.7900 - 3ms/epoch - 769us/step\n",
      "Epoch 36/150\n",
      "4/4 - 0s - loss: 0.8747 - accuracy: 0.7800 - 4ms/epoch - 1ms/step\n",
      "Epoch 37/150\n",
      "4/4 - 0s - loss: 0.8675 - accuracy: 0.7300 - 3ms/epoch - 759us/step\n",
      "Epoch 38/150\n",
      "4/4 - 0s - loss: 0.8599 - accuracy: 0.7200 - 3ms/epoch - 742us/step\n",
      "Epoch 39/150\n",
      "4/4 - 0s - loss: 0.8518 - accuracy: 0.6900 - 5ms/epoch - 1ms/step\n",
      "Epoch 40/150\n",
      "4/4 - 0s - loss: 0.8445 - accuracy: 0.6800 - 3ms/epoch - 781us/step\n",
      "Epoch 41/150\n",
      "4/4 - 0s - loss: 0.8367 - accuracy: 0.6800 - 3ms/epoch - 774us/step\n",
      "Epoch 42/150\n",
      "4/4 - 0s - loss: 0.8286 - accuracy: 0.6800 - 4ms/epoch - 1ms/step\n",
      "Epoch 43/150\n",
      "4/4 - 0s - loss: 0.8205 - accuracy: 0.7200 - 3ms/epoch - 839us/step\n",
      "Epoch 44/150\n",
      "4/4 - 0s - loss: 0.8127 - accuracy: 0.7300 - 3ms/epoch - 684us/step\n",
      "Epoch 45/150\n",
      "4/4 - 0s - loss: 0.8044 - accuracy: 0.7600 - 4ms/epoch - 998us/step\n",
      "Epoch 46/150\n",
      "4/4 - 0s - loss: 0.7961 - accuracy: 0.7600 - 3ms/epoch - 844us/step\n",
      "Epoch 47/150\n",
      "4/4 - 0s - loss: 0.7878 - accuracy: 0.7400 - 3ms/epoch - 724us/step\n",
      "Epoch 48/150\n",
      "4/4 - 0s - loss: 0.7796 - accuracy: 0.7600 - 4ms/epoch - 983us/step\n",
      "Epoch 49/150\n",
      "4/4 - 0s - loss: 0.7716 - accuracy: 0.7600 - 4ms/epoch - 883us/step\n",
      "Epoch 50/150\n",
      "4/4 - 0s - loss: 0.7638 - accuracy: 0.7600 - 3ms/epoch - 683us/step\n",
      "Epoch 51/150\n",
      "4/4 - 0s - loss: 0.7557 - accuracy: 0.7800 - 4ms/epoch - 1ms/step\n",
      "Epoch 52/150\n",
      "4/4 - 0s - loss: 0.7469 - accuracy: 0.8000 - 3ms/epoch - 822us/step\n",
      "Epoch 53/150\n",
      "4/4 - 0s - loss: 0.7391 - accuracy: 0.8100 - 3ms/epoch - 717us/step\n",
      "Epoch 54/150\n",
      "4/4 - 0s - loss: 0.7321 - accuracy: 0.8500 - 4ms/epoch - 1ms/step\n",
      "Epoch 55/150\n",
      "4/4 - 0s - loss: 0.7246 - accuracy: 0.8800 - 4ms/epoch - 922us/step\n",
      "Epoch 56/150\n",
      "4/4 - 0s - loss: 0.7173 - accuracy: 0.8500 - 3ms/epoch - 874us/step\n",
      "Epoch 57/150\n",
      "4/4 - 0s - loss: 0.7099 - accuracy: 0.8500 - 4ms/epoch - 894us/step\n",
      "Epoch 58/150\n",
      "4/4 - 0s - loss: 0.7020 - accuracy: 0.8500 - 3ms/epoch - 823us/step\n",
      "Epoch 59/150\n",
      "4/4 - 0s - loss: 0.6945 - accuracy: 0.8600 - 5ms/epoch - 1ms/step\n",
      "Epoch 60/150\n",
      "4/4 - 0s - loss: 0.6845 - accuracy: 0.8600 - 4ms/epoch - 1ms/step\n",
      "Epoch 61/150\n",
      "4/4 - 0s - loss: 0.6766 - accuracy: 0.8500 - 4ms/epoch - 1ms/step\n",
      "Epoch 62/150\n",
      "4/4 - 0s - loss: 0.6690 - accuracy: 0.8600 - 5ms/epoch - 1ms/step\n",
      "Epoch 63/150\n",
      "4/4 - 0s - loss: 0.6609 - accuracy: 0.8800 - 4ms/epoch - 1ms/step\n",
      "Epoch 64/150\n",
      "4/4 - 0s - loss: 0.6528 - accuracy: 0.8800 - 4ms/epoch - 981us/step\n",
      "Epoch 65/150\n",
      "4/4 - 0s - loss: 0.6446 - accuracy: 0.8800 - 3ms/epoch - 765us/step\n",
      "Epoch 66/150\n",
      "4/4 - 0s - loss: 0.6363 - accuracy: 0.8900 - 5ms/epoch - 1ms/step\n",
      "Epoch 67/150\n",
      "4/4 - 0s - loss: 0.6276 - accuracy: 0.8800 - 3ms/epoch - 853us/step\n",
      "Epoch 68/150\n",
      "4/4 - 0s - loss: 0.6190 - accuracy: 0.8600 - 3ms/epoch - 810us/step\n",
      "Epoch 69/150\n",
      "4/4 - 0s - loss: 0.6116 - accuracy: 0.8400 - 4ms/epoch - 1ms/step\n",
      "Epoch 70/150\n",
      "4/4 - 0s - loss: 0.6028 - accuracy: 0.8200 - 12ms/epoch - 3ms/step\n",
      "Epoch 71/150\n",
      "4/4 - 0s - loss: 0.5955 - accuracy: 0.8100 - 11ms/epoch - 3ms/step\n",
      "Epoch 72/150\n",
      "4/4 - 0s - loss: 0.5879 - accuracy: 0.8000 - 6ms/epoch - 1ms/step\n",
      "Epoch 73/150\n",
      "4/4 - 0s - loss: 0.5812 - accuracy: 0.8000 - 3ms/epoch - 757us/step\n",
      "Epoch 74/150\n",
      "4/4 - 0s - loss: 0.5741 - accuracy: 0.8000 - 4ms/epoch - 960us/step\n",
      "Epoch 75/150\n",
      "4/4 - 0s - loss: 0.5671 - accuracy: 0.8000 - 3ms/epoch - 831us/step\n",
      "Epoch 76/150\n",
      "4/4 - 0s - loss: 0.5601 - accuracy: 0.8200 - 3ms/epoch - 786us/step\n",
      "Epoch 77/150\n",
      "4/4 - 0s - loss: 0.5533 - accuracy: 0.8200 - 4ms/epoch - 883us/step\n",
      "Epoch 78/150\n",
      "4/4 - 0s - loss: 0.5463 - accuracy: 0.8400 - 4ms/epoch - 901us/step\n",
      "Epoch 79/150\n",
      "4/4 - 0s - loss: 0.5403 - accuracy: 0.8700 - 3ms/epoch - 870us/step\n",
      "Epoch 80/150\n",
      "4/4 - 0s - loss: 0.5348 - accuracy: 0.9000 - 4ms/epoch - 935us/step\n",
      "Epoch 81/150\n",
      "4/4 - 0s - loss: 0.5291 - accuracy: 0.9200 - 3ms/epoch - 825us/step\n",
      "Epoch 82/150\n",
      "4/4 - 0s - loss: 0.5245 - accuracy: 0.9100 - 8ms/epoch - 2ms/step\n",
      "Epoch 83/150\n",
      "4/4 - 0s - loss: 0.5188 - accuracy: 0.9200 - 3ms/epoch - 867us/step\n",
      "Epoch 84/150\n",
      "4/4 - 0s - loss: 0.5132 - accuracy: 0.9100 - 3ms/epoch - 731us/step\n",
      "Epoch 85/150\n",
      "4/4 - 0s - loss: 0.5075 - accuracy: 0.9100 - 4ms/epoch - 974us/step\n",
      "Epoch 86/150\n",
      "4/4 - 0s - loss: 0.5020 - accuracy: 0.9100 - 3ms/epoch - 761us/step\n",
      "Epoch 87/150\n",
      "4/4 - 0s - loss: 0.4969 - accuracy: 0.9100 - 3ms/epoch - 728us/step\n",
      "Epoch 88/150\n",
      "4/4 - 0s - loss: 0.4922 - accuracy: 0.8700 - 4ms/epoch - 986us/step\n",
      "Epoch 89/150\n",
      "4/4 - 0s - loss: 0.4873 - accuracy: 0.8600 - 3ms/epoch - 728us/step\n",
      "Epoch 90/150\n",
      "4/4 - 0s - loss: 0.4872 - accuracy: 0.8100 - 4ms/epoch - 878us/step\n",
      "Epoch 91/150\n",
      "4/4 - 0s - loss: 0.4838 - accuracy: 0.8100 - 4ms/epoch - 947us/step\n",
      "Epoch 92/150\n",
      "4/4 - 0s - loss: 0.4825 - accuracy: 0.7700 - 3ms/epoch - 743us/step\n",
      "Epoch 93/150\n",
      "4/4 - 0s - loss: 0.4793 - accuracy: 0.7700 - 3ms/epoch - 836us/step\n",
      "Epoch 94/150\n",
      "4/4 - 0s - loss: 0.4746 - accuracy: 0.7800 - 4ms/epoch - 996us/step\n",
      "Epoch 95/150\n",
      "4/4 - 0s - loss: 0.4689 - accuracy: 0.8100 - 3ms/epoch - 719us/step\n",
      "Epoch 96/150\n",
      "4/4 - 0s - loss: 0.4625 - accuracy: 0.8400 - 4ms/epoch - 896us/step\n",
      "Epoch 97/150\n",
      "4/4 - 0s - loss: 0.4572 - accuracy: 0.8800 - 5ms/epoch - 1ms/step\n",
      "Epoch 98/150\n",
      "4/4 - 0s - loss: 0.4530 - accuracy: 0.9100 - 3ms/epoch - 836us/step\n",
      "Epoch 99/150\n",
      "4/4 - 0s - loss: 0.4491 - accuracy: 0.9200 - 4ms/epoch - 1ms/step\n",
      "Epoch 100/150\n",
      "4/4 - 0s - loss: 0.4453 - accuracy: 0.9200 - 5ms/epoch - 1ms/step\n",
      "Epoch 101/150\n",
      "4/4 - 0s - loss: 0.4422 - accuracy: 0.9200 - 10ms/epoch - 3ms/step\n",
      "Epoch 102/150\n",
      "4/4 - 0s - loss: 0.4382 - accuracy: 0.9200 - 9ms/epoch - 2ms/step\n",
      "Epoch 103/150\n",
      "4/4 - 0s - loss: 0.4351 - accuracy: 0.9200 - 5ms/epoch - 1ms/step\n",
      "Epoch 104/150\n",
      "4/4 - 0s - loss: 0.4322 - accuracy: 0.9200 - 3ms/epoch - 785us/step\n",
      "Epoch 105/150\n",
      "4/4 - 0s - loss: 0.4290 - accuracy: 0.9300 - 3ms/epoch - 856us/step\n",
      "Epoch 106/150\n",
      "4/4 - 0s - loss: 0.4258 - accuracy: 0.9200 - 4ms/epoch - 885us/step\n",
      "Epoch 107/150\n",
      "4/4 - 0s - loss: 0.4223 - accuracy: 0.9200 - 4ms/epoch - 888us/step\n",
      "Epoch 108/150\n",
      "4/4 - 0s - loss: 0.4189 - accuracy: 0.9300 - 3ms/epoch - 765us/step\n",
      "Epoch 109/150\n",
      "4/4 - 0s - loss: 0.4155 - accuracy: 0.9200 - 4ms/epoch - 937us/step\n",
      "Epoch 110/150\n",
      "4/4 - 0s - loss: 0.4127 - accuracy: 0.9300 - 3ms/epoch - 824us/step\n",
      "Epoch 111/150\n",
      "4/4 - 0s - loss: 0.4092 - accuracy: 0.9300 - 3ms/epoch - 735us/step\n",
      "Epoch 112/150\n",
      "4/4 - 0s - loss: 0.4052 - accuracy: 0.9300 - 4ms/epoch - 917us/step\n",
      "Epoch 113/150\n",
      "4/4 - 0s - loss: 0.4011 - accuracy: 0.9200 - 3ms/epoch - 834us/step\n",
      "Epoch 114/150\n",
      "4/4 - 0s - loss: 0.3998 - accuracy: 0.9200 - 3ms/epoch - 752us/step\n",
      "Epoch 115/150\n",
      "4/4 - 0s - loss: 0.3985 - accuracy: 0.9300 - 4ms/epoch - 982us/step\n",
      "Epoch 116/150\n",
      "4/4 - 0s - loss: 0.3963 - accuracy: 0.9300 - 3ms/epoch - 817us/step\n",
      "Epoch 117/150\n",
      "4/4 - 0s - loss: 0.3936 - accuracy: 0.9300 - 3ms/epoch - 714us/step\n",
      "Epoch 118/150\n",
      "4/4 - 0s - loss: 0.3916 - accuracy: 0.9400 - 3ms/epoch - 780us/step\n",
      "Epoch 119/150\n",
      "4/4 - 0s - loss: 0.3893 - accuracy: 0.9400 - 4ms/epoch - 983us/step\n",
      "Epoch 120/150\n",
      "4/4 - 0s - loss: 0.3866 - accuracy: 0.9400 - 3ms/epoch - 777us/step\n",
      "Epoch 121/150\n",
      "4/4 - 0s - loss: 0.3826 - accuracy: 0.9300 - 5ms/epoch - 1ms/step\n",
      "Epoch 122/150\n",
      "4/4 - 0s - loss: 0.3778 - accuracy: 0.9300 - 3ms/epoch - 794us/step\n",
      "Epoch 123/150\n",
      "4/4 - 0s - loss: 0.3721 - accuracy: 0.9300 - 3ms/epoch - 713us/step\n",
      "Epoch 124/150\n",
      "4/4 - 0s - loss: 0.3712 - accuracy: 0.9400 - 3ms/epoch - 837us/step\n",
      "Epoch 125/150\n",
      "4/4 - 0s - loss: 0.3690 - accuracy: 0.9300 - 3ms/epoch - 725us/step\n",
      "Epoch 126/150\n",
      "4/4 - 0s - loss: 0.3667 - accuracy: 0.9300 - 3ms/epoch - 743us/step\n",
      "Epoch 127/150\n",
      "4/4 - 0s - loss: 0.3648 - accuracy: 0.9200 - 4ms/epoch - 1ms/step\n",
      "Epoch 128/150\n",
      "4/4 - 0s - loss: 0.3639 - accuracy: 0.9200 - 3ms/epoch - 681us/step\n",
      "Epoch 129/150\n",
      "4/4 - 0s - loss: 0.3617 - accuracy: 0.9200 - 3ms/epoch - 789us/step\n",
      "Epoch 130/150\n",
      "4/4 - 0s - loss: 0.3572 - accuracy: 0.9300 - 4ms/epoch - 1ms/step\n",
      "Epoch 131/150\n",
      "4/4 - 0s - loss: 0.3525 - accuracy: 0.9500 - 3ms/epoch - 774us/step\n",
      "Epoch 132/150\n",
      "4/4 - 0s - loss: 0.3487 - accuracy: 0.9500 - 3ms/epoch - 703us/step\n",
      "Epoch 133/150\n",
      "4/4 - 0s - loss: 0.3465 - accuracy: 0.9400 - 4ms/epoch - 877us/step\n",
      "Epoch 134/150\n",
      "4/4 - 0s - loss: 0.3439 - accuracy: 0.9400 - 3ms/epoch - 792us/step\n",
      "Epoch 135/150\n",
      "4/4 - 0s - loss: 0.3414 - accuracy: 0.9400 - 3ms/epoch - 750us/step\n",
      "Epoch 136/150\n",
      "4/4 - 0s - loss: 0.3389 - accuracy: 0.9300 - 3ms/epoch - 821us/step\n",
      "Epoch 137/150\n",
      "4/4 - 0s - loss: 0.3360 - accuracy: 0.9400 - 3ms/epoch - 764us/step\n",
      "Epoch 138/150\n",
      "4/4 - 0s - loss: 0.3333 - accuracy: 0.9500 - 3ms/epoch - 720us/step\n",
      "Epoch 139/150\n",
      "4/4 - 0s - loss: 0.3312 - accuracy: 0.9500 - 5ms/epoch - 1ms/step\n",
      "Epoch 140/150\n",
      "4/4 - 0s - loss: 0.3282 - accuracy: 0.9500 - 3ms/epoch - 737us/step\n",
      "Epoch 141/150\n",
      "4/4 - 0s - loss: 0.3255 - accuracy: 0.9600 - 3ms/epoch - 866us/step\n",
      "Epoch 142/150\n",
      "4/4 - 0s - loss: 0.3232 - accuracy: 0.9300 - 4ms/epoch - 970us/step\n",
      "Epoch 143/150\n",
      "4/4 - 0s - loss: 0.3232 - accuracy: 0.9300 - 3ms/epoch - 745us/step\n",
      "Epoch 144/150\n",
      "4/4 - 0s - loss: 0.3220 - accuracy: 0.9300 - 3ms/epoch - 745us/step\n",
      "Epoch 145/150\n",
      "4/4 - 0s - loss: 0.3190 - accuracy: 0.9200 - 4ms/epoch - 1ms/step\n",
      "Epoch 146/150\n",
      "4/4 - 0s - loss: 0.3133 - accuracy: 0.9300 - 3ms/epoch - 753us/step\n",
      "Epoch 147/150\n",
      "4/4 - 0s - loss: 0.3112 - accuracy: 0.9500 - 3ms/epoch - 871us/step\n",
      "Epoch 148/150\n",
      "4/4 - 0s - loss: 0.3091 - accuracy: 0.9500 - 7ms/epoch - 2ms/step\n",
      "Epoch 149/150\n",
      "4/4 - 0s - loss: 0.3075 - accuracy: 0.9500 - 3ms/epoch - 834us/step\n",
      "Epoch 150/150\n",
      "4/4 - 0s - loss: 0.3054 - accuracy: 0.9500 - 3ms/epoch - 824us/step\n"
     ]
    },
    {
     "data": {
      "text/plain": [
       "<keras.callbacks.History at 0x7fb06d20edd0>"
      ]
     },
     "execution_count": 28,
     "metadata": {},
     "output_type": "execute_result"
    }
   ],
   "source": [
    "model.fit(scaled_X_train, y_train, epochs=150, verbose=2)"
   ]
  },
  {
   "cell_type": "code",
   "execution_count": 29,
   "metadata": {},
   "outputs": [
    {
     "ename": "AttributeError",
     "evalue": "'Sequential' object has no attribute 'predict_classes'",
     "output_type": "error",
     "traceback": [
      "\u001b[0;31m---------------------------------------------------------------------------\u001b[0m",
      "\u001b[0;31mAttributeError\u001b[0m                            Traceback (most recent call last)",
      "Cell \u001b[0;32mIn[29], line 1\u001b[0m\n\u001b[0;32m----> 1\u001b[0m model\u001b[39m.\u001b[39;49mpredict_classes(scaled_X_test)\n",
      "\u001b[0;31mAttributeError\u001b[0m: 'Sequential' object has no attribute 'predict_classes'"
     ]
    }
   ],
   "source": [
    "model.predict_classes(scaled_X_test)"
   ]
  },
  {
   "cell_type": "code",
   "execution_count": 30,
   "metadata": {},
   "outputs": [],
   "source": [
    "# y_test"
   ]
  },
  {
   "cell_type": "code",
   "execution_count": 31,
   "metadata": {},
   "outputs": [
    {
     "name": "stdout",
     "output_type": "stream",
     "text": [
      "2/2 [==============================] - 0s 2ms/step\n"
     ]
    }
   ],
   "source": [
    "predictions = np.argmax(model.predict(scaled_X_test), axis=1)"
   ]
  },
  {
   "cell_type": "code",
   "execution_count": 32,
   "metadata": {},
   "outputs": [
    {
     "data": {
      "text/plain": [
       "array([1, 0, 2, 1, 1, 0, 1, 2, 1, 1, 2, 0, 0, 0, 0, 1, 2, 1, 1, 2, 0, 2,\n",
       "       0, 2, 2, 2, 2, 2, 0, 0, 0, 0, 1, 0, 0, 2, 1, 0, 0, 0, 2, 1, 1, 0,\n",
       "       0, 1, 2, 2, 1, 2])"
      ]
     },
     "execution_count": 32,
     "metadata": {},
     "output_type": "execute_result"
    }
   ],
   "source": [
    "y_test.argmax(axis=1)"
   ]
  },
  {
   "cell_type": "code",
   "execution_count": 33,
   "metadata": {},
   "outputs": [],
   "source": [
    "# y_test"
   ]
  },
  {
   "cell_type": "code",
   "execution_count": 34,
   "metadata": {},
   "outputs": [],
   "source": [
    "from sklearn.metrics import confusion_matrix, classification_report, accuracy_score"
   ]
  },
  {
   "cell_type": "code",
   "execution_count": 35,
   "metadata": {},
   "outputs": [
    {
     "data": {
      "text/plain": [
       "array([[19,  0,  0],\n",
       "       [ 0, 13,  2],\n",
       "       [ 0,  0, 16]])"
      ]
     },
     "execution_count": 35,
     "metadata": {},
     "output_type": "execute_result"
    }
   ],
   "source": [
    "confusion_matrix(y_test.argmax(axis=1), predictions)"
   ]
  },
  {
   "cell_type": "code",
   "execution_count": 36,
   "metadata": {},
   "outputs": [
    {
     "name": "stdout",
     "output_type": "stream",
     "text": [
      "              precision    recall  f1-score   support\n",
      "\n",
      "           0       1.00      1.00      1.00        19\n",
      "           1       1.00      0.87      0.93        15\n",
      "           2       0.89      1.00      0.94        16\n",
      "\n",
      "    accuracy                           0.96        50\n",
      "   macro avg       0.96      0.96      0.96        50\n",
      "weighted avg       0.96      0.96      0.96        50\n",
      "\n"
     ]
    }
   ],
   "source": [
    "print(classification_report(y_test.argmax(axis=1), predictions))"
   ]
  },
  {
   "cell_type": "code",
   "execution_count": 37,
   "metadata": {},
   "outputs": [
    {
     "data": {
      "text/plain": [
       "0.96"
      ]
     },
     "execution_count": 37,
     "metadata": {},
     "output_type": "execute_result"
    }
   ],
   "source": [
    "accuracy_score(y_test.argmax(axis=1), predictions)"
   ]
  },
  {
   "cell_type": "code",
   "execution_count": 38,
   "metadata": {},
   "outputs": [],
   "source": [
    "model.save('myfirstmodel.h5')"
   ]
  },
  {
   "cell_type": "code",
   "execution_count": 39,
   "metadata": {},
   "outputs": [],
   "source": [
    "from keras.models import load_model"
   ]
  },
  {
   "cell_type": "code",
   "execution_count": 40,
   "metadata": {},
   "outputs": [],
   "source": [
    "new_model = load_model('myfirstmodel.h5')"
   ]
  },
  {
   "cell_type": "code",
   "execution_count": 41,
   "metadata": {},
   "outputs": [
    {
     "name": "stdout",
     "output_type": "stream",
     "text": [
      "2/2 [==============================] - 0s 2ms/step\n"
     ]
    },
    {
     "data": {
      "text/plain": [
       "array([1, 0, 2, 1, 2, 0, 1, 2, 2, 1, 2, 0, 0, 0, 0, 1, 2, 1, 1, 2, 0, 2,\n",
       "       0, 2, 2, 2, 2, 2, 0, 0, 0, 0, 1, 0, 0, 2, 1, 0, 0, 0, 2, 1, 1, 0,\n",
       "       0, 1, 2, 2, 1, 2])"
      ]
     },
     "execution_count": 41,
     "metadata": {},
     "output_type": "execute_result"
    }
   ],
   "source": [
    "np.argmax(new_model.predict(scaled_X_test), axis=1)"
   ]
  },
  {
   "cell_type": "code",
   "execution_count": null,
   "metadata": {},
   "outputs": [],
   "source": []
  }
 ],
 "metadata": {
  "kernelspec": {
   "display_name": "nlp_course",
   "language": "python",
   "name": "python3"
  },
  "language_info": {
   "codemirror_mode": {
    "name": "ipython",
    "version": 3
   },
   "file_extension": ".py",
   "mimetype": "text/x-python",
   "name": "python",
   "nbconvert_exporter": "python",
   "pygments_lexer": "ipython3",
   "version": "3.10.12"
  },
  "orig_nbformat": 4
 },
 "nbformat": 4,
 "nbformat_minor": 2
}
